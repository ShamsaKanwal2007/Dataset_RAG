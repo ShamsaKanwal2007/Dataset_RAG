{
  "nbformat": 4,
  "nbformat_minor": 0,
  "metadata": {
    "colab": {
      "provenance": []
    },
    "kernelspec": {
      "name": "python3",
      "display_name": "Python 3"
    },
    "language_info": {
      "name": "python"
    }
  },
  "cells": [
    {
      "cell_type": "code",
      "execution_count": 1,
      "metadata": {
        "collapsed": true,
        "id": "sorqOYS7tTIT",
        "colab": {
          "base_uri": "https://localhost:8080/"
        },
        "outputId": "b000df15-8acb-454a-a25b-c6a6b06ca038"
      },
      "outputs": [
        {
          "output_type": "stream",
          "name": "stdout",
          "text": [
            "\u001b[?25l     \u001b[90m━━━━━━━━━━━━━━━━━━━━━━━━━━━━━━━━━━━━━━━━\u001b[0m \u001b[32m0.0/67.3 kB\u001b[0m \u001b[31m?\u001b[0m eta \u001b[36m-:--:--\u001b[0m\r\u001b[2K     \u001b[90m━━━━━━━━━━━━━━━━━━━━━━━━━━━━━━━━━━━━━━━━\u001b[0m \u001b[32m67.3/67.3 kB\u001b[0m \u001b[31m2.7 MB/s\u001b[0m eta \u001b[36m0:00:00\u001b[0m\n",
            "\u001b[?25h  Installing build dependencies ... \u001b[?25l\u001b[?25hdone\n",
            "  Getting requirements to build wheel ... \u001b[?25l\u001b[?25hdone\n",
            "  Preparing metadata (pyproject.toml) ... \u001b[?25l\u001b[?25hdone\n",
            "\u001b[2K   \u001b[90m━━━━━━━━━━━━━━━━━━━━━━━━━━━━━━━━━━━━━━━━\u001b[0m \u001b[32m41.5/41.5 kB\u001b[0m \u001b[31m2.5 MB/s\u001b[0m eta \u001b[36m0:00:00\u001b[0m\n",
            "\u001b[2K   \u001b[90m━━━━━━━━━━━━━━━━━━━━━━━━━━━━━━━━━━━━━━━━\u001b[0m \u001b[32m606.2/606.2 kB\u001b[0m \u001b[31m12.0 MB/s\u001b[0m eta \u001b[36m0:00:00\u001b[0m\n",
            "\u001b[2K   \u001b[90m━━━━━━━━━━━━━━━━━━━━━━━━━━━━━━━━━━━━━━━━\u001b[0m \u001b[32m2.4/2.4 MB\u001b[0m \u001b[31m49.3 MB/s\u001b[0m eta \u001b[36m0:00:00\u001b[0m\n",
            "\u001b[2K   \u001b[90m━━━━━━━━━━━━━━━━━━━━━━━━━━━━━━━━━━━━━━━━\u001b[0m \u001b[32m298.0/298.0 kB\u001b[0m \u001b[31m23.2 MB/s\u001b[0m eta \u001b[36m0:00:00\u001b[0m\n",
            "\u001b[2K   \u001b[90m━━━━━━━━━━━━━━━━━━━━━━━━━━━━━━━━━━━━━━━━\u001b[0m \u001b[32m278.6/278.6 kB\u001b[0m \u001b[31m20.7 MB/s\u001b[0m eta \u001b[36m0:00:00\u001b[0m\n",
            "\u001b[2K   \u001b[90m━━━━━━━━━━━━━━━━━━━━━━━━━━━━━━━━━━━━━━━━\u001b[0m \u001b[32m94.8/94.8 kB\u001b[0m \u001b[31m8.2 MB/s\u001b[0m eta \u001b[36m0:00:00\u001b[0m\n",
            "\u001b[2K   \u001b[90m━━━━━━━━━━━━━━━━━━━━━━━━━━━━━━━━━━━━━━━━\u001b[0m \u001b[32m1.9/1.9 MB\u001b[0m \u001b[31m72.8 MB/s\u001b[0m eta \u001b[36m0:00:00\u001b[0m\n",
            "\u001b[2K   \u001b[90m━━━━━━━━━━━━━━━━━━━━━━━━━━━━━━━━━━━━━━━━\u001b[0m \u001b[32m93.2/93.2 kB\u001b[0m \u001b[31m9.0 MB/s\u001b[0m eta \u001b[36m0:00:00\u001b[0m\n",
            "\u001b[2K   \u001b[90m━━━━━━━━━━━━━━━━━━━━━━━━━━━━━━━━━━━━━━━━\u001b[0m \u001b[32m13.3/13.3 MB\u001b[0m \u001b[31m83.7 MB/s\u001b[0m eta \u001b[36m0:00:00\u001b[0m\n",
            "\u001b[2K   \u001b[90m━━━━━━━━━━━━━━━━━━━━━━━━━━━━━━━━━━━━━━━━\u001b[0m \u001b[32m55.8/55.8 kB\u001b[0m \u001b[31m5.0 MB/s\u001b[0m eta \u001b[36m0:00:00\u001b[0m\n",
            "\u001b[2K   \u001b[90m━━━━━━━━━━━━━━━━━━━━━━━━━━━━━━━━━━━━━━━━\u001b[0m \u001b[32m54.9/54.9 kB\u001b[0m \u001b[31m4.2 MB/s\u001b[0m eta \u001b[36m0:00:00\u001b[0m\n",
            "\u001b[2K   \u001b[90m━━━━━━━━━━━━━━━━━━━━━━━━━━━━━━━━━━━━━━━━\u001b[0m \u001b[32m319.7/319.7 kB\u001b[0m \u001b[31m24.6 MB/s\u001b[0m eta \u001b[36m0:00:00\u001b[0m\n",
            "\u001b[2K   \u001b[90m━━━━━━━━━━━━━━━━━━━━━━━━━━━━━━━━━━━━━━━━\u001b[0m \u001b[32m62.3/62.3 kB\u001b[0m \u001b[31m5.6 MB/s\u001b[0m eta \u001b[36m0:00:00\u001b[0m\n",
            "\u001b[2K   \u001b[90m━━━━━━━━━━━━━━━━━━━━━━━━━━━━━━━━━━━━━━━━\u001b[0m \u001b[32m442.1/442.1 kB\u001b[0m \u001b[31m30.5 MB/s\u001b[0m eta \u001b[36m0:00:00\u001b[0m\n",
            "\u001b[2K   \u001b[90m━━━━━━━━━━━━━━━━━━━━━━━━━━━━━━━━━━━━━━━━\u001b[0m \u001b[32m73.2/73.2 kB\u001b[0m \u001b[31m6.6 MB/s\u001b[0m eta \u001b[36m0:00:00\u001b[0m\n",
            "\u001b[2K   \u001b[90m━━━━━━━━━━━━━━━━━━━━━━━━━━━━━━━━━━━━━━━━\u001b[0m \u001b[32m3.8/3.8 MB\u001b[0m \u001b[31m71.1 MB/s\u001b[0m eta \u001b[36m0:00:00\u001b[0m\n",
            "\u001b[2K   \u001b[90m━━━━━━━━━━━━━━━━━━━━━━━━━━━━━━━━━━━━━━━━\u001b[0m \u001b[32m452.9/452.9 kB\u001b[0m \u001b[31m22.7 MB/s\u001b[0m eta \u001b[36m0:00:00\u001b[0m\n",
            "\u001b[2K   \u001b[90m━━━━━━━━━━━━━━━━━━━━━━━━━━━━━━━━━━━━━━━━\u001b[0m \u001b[32m46.0/46.0 kB\u001b[0m \u001b[31m3.9 MB/s\u001b[0m eta \u001b[36m0:00:00\u001b[0m\n",
            "\u001b[2K   \u001b[90m━━━━━━━━━━━━━━━━━━━━━━━━━━━━━━━━━━━━━━━━\u001b[0m \u001b[32m86.8/86.8 kB\u001b[0m \u001b[31m6.7 MB/s\u001b[0m eta \u001b[36m0:00:00\u001b[0m\n",
            "\u001b[?25h  Building wheel for pypika (pyproject.toml) ... \u001b[?25l\u001b[?25hdone\n",
            "\u001b[31mERROR: pip's dependency resolver does not currently take into account all the packages that are installed. This behaviour is the source of the following dependency conflicts.\n",
            "tensorflow 2.17.1 requires protobuf!=4.21.0,!=4.21.1,!=4.21.2,!=4.21.3,!=4.21.4,!=4.21.5,<5.0.0dev,>=3.20.3, but you have protobuf 5.29.3 which is incompatible.\n",
            "tensorflow-metadata 1.13.1 requires protobuf<5,>=3.20.3, but you have protobuf 5.29.3 which is incompatible.\u001b[0m\u001b[31m\n",
            "\u001b[0m"
          ]
        }
      ],
      "source": [
        "!pip install -q --upgrade google-generativeai langchain-google-genai chromadb pypdf"
      ]
    },
    {
      "cell_type": "code",
      "source": [
        "from google.colab import userdata\n",
        "google_api_key=userdata.get('GOOGLE_API_KEY')"
      ],
      "metadata": {
        "id": "cBCJk5uut94A"
      },
      "execution_count": 14,
      "outputs": []
    },
    {
      "cell_type": "code",
      "source": [
        "!sudo apt -y -qq install tesseract-ocr libtesseract-dev\n",
        "\n",
        "!sudo apt-get -y -qq install poppler-utils libxslt1-dev antiword unrtf poppler-utils tesseract-ocr flac ffmpeg lame libmad0 libsox-fmt-mp3 sox libjpeg-dev swig\n",
        "\n",
        "!pip install langchain"
      ],
      "metadata": {
        "colab": {
          "base_uri": "https://localhost:8080/"
        },
        "collapsed": true,
        "id": "I-O50fIUuWj-",
        "outputId": "f0ac35ad-c5c8-49d8-eb1a-450bc8e397de"
      },
      "execution_count": 2,
      "outputs": [
        {
          "output_type": "stream",
          "name": "stdout",
          "text": [
            "The following additional packages will be installed:\n",
            "  libarchive-dev libleptonica-dev tesseract-ocr-eng tesseract-ocr-osd\n",
            "The following NEW packages will be installed:\n",
            "  libarchive-dev libleptonica-dev libtesseract-dev tesseract-ocr\n",
            "  tesseract-ocr-eng tesseract-ocr-osd\n",
            "0 upgraded, 6 newly installed, 0 to remove and 49 not upgraded.\n",
            "Need to get 8,560 kB of archives.\n",
            "After this operation, 31.6 MB of additional disk space will be used.\n",
            "debconf: unable to initialize frontend: Dialog\n",
            "debconf: (No usable dialog-like program is installed, so the dialog based frontend cannot be used. at /usr/share/perl5/Debconf/FrontEnd/Dialog.pm line 78, <> line 6.)\n",
            "debconf: falling back to frontend: Readline\n",
            "debconf: unable to initialize frontend: Readline\n",
            "debconf: (This frontend requires a controlling tty.)\n",
            "debconf: falling back to frontend: Teletype\n",
            "dpkg-preconfigure: unable to re-open stdin: \n",
            "Selecting previously unselected package libarchive-dev:amd64.\n",
            "(Reading database ... 123632 files and directories currently installed.)\n",
            "Preparing to unpack .../0-libarchive-dev_3.6.0-1ubuntu1.3_amd64.deb ...\n",
            "Unpacking libarchive-dev:amd64 (3.6.0-1ubuntu1.3) ...\n",
            "Selecting previously unselected package libleptonica-dev.\n",
            "Preparing to unpack .../1-libleptonica-dev_1.82.0-3build1_amd64.deb ...\n",
            "Unpacking libleptonica-dev (1.82.0-3build1) ...\n",
            "Selecting previously unselected package libtesseract-dev:amd64.\n",
            "Preparing to unpack .../2-libtesseract-dev_4.1.1-2.1build1_amd64.deb ...\n",
            "Unpacking libtesseract-dev:amd64 (4.1.1-2.1build1) ...\n",
            "Selecting previously unselected package tesseract-ocr-eng.\n",
            "Preparing to unpack .../3-tesseract-ocr-eng_1%3a4.00~git30-7274cfa-1.1_all.deb ...\n",
            "Unpacking tesseract-ocr-eng (1:4.00~git30-7274cfa-1.1) ...\n",
            "Selecting previously unselected package tesseract-ocr-osd.\n",
            "Preparing to unpack .../4-tesseract-ocr-osd_1%3a4.00~git30-7274cfa-1.1_all.deb ...\n",
            "Unpacking tesseract-ocr-osd (1:4.00~git30-7274cfa-1.1) ...\n",
            "Selecting previously unselected package tesseract-ocr.\n",
            "Preparing to unpack .../5-tesseract-ocr_4.1.1-2.1build1_amd64.deb ...\n",
            "Unpacking tesseract-ocr (4.1.1-2.1build1) ...\n",
            "Setting up tesseract-ocr-eng (1:4.00~git30-7274cfa-1.1) ...\n",
            "Setting up libleptonica-dev (1.82.0-3build1) ...\n",
            "Setting up libarchive-dev:amd64 (3.6.0-1ubuntu1.3) ...\n",
            "Setting up tesseract-ocr-osd (1:4.00~git30-7274cfa-1.1) ...\n",
            "Setting up libtesseract-dev:amd64 (4.1.1-2.1build1) ...\n",
            "Setting up tesseract-ocr (4.1.1-2.1build1) ...\n",
            "Processing triggers for man-db (2.10.2-1) ...\n",
            "debconf: unable to initialize frontend: Dialog\n",
            "debconf: (No usable dialog-like program is installed, so the dialog based frontend cannot be used. at /usr/share/perl5/Debconf/FrontEnd/Dialog.pm line 78, <> line 18.)\n",
            "debconf: falling back to frontend: Readline\n",
            "debconf: unable to initialize frontend: Readline\n",
            "debconf: (This frontend requires a controlling tty.)\n",
            "debconf: falling back to frontend: Teletype\n",
            "dpkg-preconfigure: unable to re-open stdin: \n",
            "Selecting previously unselected package antiword.\n",
            "(Reading database ... 123812 files and directories currently installed.)\n",
            "Preparing to unpack .../00-antiword_0.37-16_amd64.deb ...\n",
            "Unpacking antiword (0.37-16) ...\n",
            "Selecting previously unselected package flac.\n",
            "Preparing to unpack .../01-flac_1.3.3-2ubuntu0.2_amd64.deb ...\n",
            "Unpacking flac (1.3.3-2ubuntu0.2) ...\n",
            "Selecting previously unselected package lame.\n",
            "Preparing to unpack .../02-lame_3.100-3build2_amd64.deb ...\n",
            "Unpacking lame (3.100-3build2) ...\n",
            "Selecting previously unselected package libid3tag0:amd64.\n",
            "Preparing to unpack .../03-libid3tag0_0.15.1b-14_amd64.deb ...\n",
            "Unpacking libid3tag0:amd64 (0.15.1b-14) ...\n",
            "Selecting previously unselected package libmad0:amd64.\n",
            "Preparing to unpack .../04-libmad0_0.15.1b-10ubuntu1_amd64.deb ...\n",
            "Unpacking libmad0:amd64 (0.15.1b-10ubuntu1) ...\n",
            "Selecting previously unselected package libopencore-amrnb0:amd64.\n",
            "Preparing to unpack .../05-libopencore-amrnb0_0.1.5-1_amd64.deb ...\n",
            "Unpacking libopencore-amrnb0:amd64 (0.1.5-1) ...\n",
            "Selecting previously unselected package libopencore-amrwb0:amd64.\n",
            "Preparing to unpack .../06-libopencore-amrwb0_0.1.5-1_amd64.deb ...\n",
            "Unpacking libopencore-amrwb0:amd64 (0.1.5-1) ...\n",
            "Selecting previously unselected package libsox3:amd64.\n",
            "Preparing to unpack .../07-libsox3_14.4.2+git20190427-2+deb11u2ubuntu0.22.04.1_amd64.deb ...\n",
            "Unpacking libsox3:amd64 (14.4.2+git20190427-2+deb11u2ubuntu0.22.04.1) ...\n",
            "Selecting previously unselected package libsox-fmt-alsa:amd64.\n",
            "Preparing to unpack .../08-libsox-fmt-alsa_14.4.2+git20190427-2+deb11u2ubuntu0.22.04.1_amd64.deb ...\n",
            "Unpacking libsox-fmt-alsa:amd64 (14.4.2+git20190427-2+deb11u2ubuntu0.22.04.1) ...\n",
            "Selecting previously unselected package libwavpack1:amd64.\n",
            "Preparing to unpack .../09-libwavpack1_5.4.0-1build2_amd64.deb ...\n",
            "Unpacking libwavpack1:amd64 (5.4.0-1build2) ...\n",
            "Selecting previously unselected package libsox-fmt-base:amd64.\n",
            "Preparing to unpack .../10-libsox-fmt-base_14.4.2+git20190427-2+deb11u2ubuntu0.22.04.1_amd64.deb ...\n",
            "Unpacking libsox-fmt-base:amd64 (14.4.2+git20190427-2+deb11u2ubuntu0.22.04.1) ...\n",
            "Selecting previously unselected package libsox-fmt-mp3:amd64.\n",
            "Preparing to unpack .../11-libsox-fmt-mp3_14.4.2+git20190427-2+deb11u2ubuntu0.22.04.1_amd64.deb ...\n",
            "Unpacking libsox-fmt-mp3:amd64 (14.4.2+git20190427-2+deb11u2ubuntu0.22.04.1) ...\n",
            "Selecting previously unselected package libxslt1-dev:amd64.\n",
            "Preparing to unpack .../12-libxslt1-dev_1.1.34-4ubuntu0.22.04.1_amd64.deb ...\n",
            "Unpacking libxslt1-dev:amd64 (1.1.34-4ubuntu0.22.04.1) ...\n",
            "Selecting previously unselected package poppler-utils.\n",
            "Preparing to unpack .../13-poppler-utils_22.02.0-2ubuntu0.5_amd64.deb ...\n",
            "Unpacking poppler-utils (22.02.0-2ubuntu0.5) ...\n",
            "Selecting previously unselected package sox.\n",
            "Preparing to unpack .../14-sox_14.4.2+git20190427-2+deb11u2ubuntu0.22.04.1_amd64.deb ...\n",
            "Unpacking sox (14.4.2+git20190427-2+deb11u2ubuntu0.22.04.1) ...\n",
            "Selecting previously unselected package swig4.0.\n",
            "Preparing to unpack .../15-swig4.0_4.0.2-1ubuntu1_amd64.deb ...\n",
            "Unpacking swig4.0 (4.0.2-1ubuntu1) ...\n",
            "Selecting previously unselected package swig.\n",
            "Preparing to unpack .../16-swig_4.0.2-1ubuntu1_all.deb ...\n",
            "Unpacking swig (4.0.2-1ubuntu1) ...\n",
            "Selecting previously unselected package unrtf.\n",
            "Preparing to unpack .../17-unrtf_0.21.10-clean-1_amd64.deb ...\n",
            "Unpacking unrtf (0.21.10-clean-1) ...\n",
            "Setting up unrtf (0.21.10-clean-1) ...\n",
            "Setting up libxslt1-dev:amd64 (1.1.34-4ubuntu0.22.04.1) ...\n",
            "Setting up libsox3:amd64 (14.4.2+git20190427-2+deb11u2ubuntu0.22.04.1) ...\n",
            "Setting up lame (3.100-3build2) ...\n",
            "Setting up libid3tag0:amd64 (0.15.1b-14) ...\n",
            "Setting up libopencore-amrwb0:amd64 (0.1.5-1) ...\n",
            "Setting up flac (1.3.3-2ubuntu0.2) ...\n",
            "Setting up libsox-fmt-alsa:amd64 (14.4.2+git20190427-2+deb11u2ubuntu0.22.04.1) ...\n",
            "Setting up libmad0:amd64 (0.15.1b-10ubuntu1) ...\n",
            "Setting up libwavpack1:amd64 (5.4.0-1build2) ...\n",
            "Setting up libopencore-amrnb0:amd64 (0.1.5-1) ...\n",
            "Setting up antiword (0.37-16) ...\n",
            "Setting up libsox-fmt-base:amd64 (14.4.2+git20190427-2+deb11u2ubuntu0.22.04.1) ...\n",
            "Setting up poppler-utils (22.02.0-2ubuntu0.5) ...\n",
            "Setting up swig4.0 (4.0.2-1ubuntu1) ...\n",
            "Setting up libsox-fmt-mp3:amd64 (14.4.2+git20190427-2+deb11u2ubuntu0.22.04.1) ...\n",
            "Setting up swig (4.0.2-1ubuntu1) ...\n",
            "Setting up sox (14.4.2+git20190427-2+deb11u2ubuntu0.22.04.1) ...\n",
            "Processing triggers for man-db (2.10.2-1) ...\n",
            "Processing triggers for libc-bin (2.35-0ubuntu3.4) ...\n",
            "/sbin/ldconfig.real: /usr/local/lib/libtbbbind.so.3 is not a symbolic link\n",
            "\n",
            "/sbin/ldconfig.real: /usr/local/lib/libtbbmalloc.so.2 is not a symbolic link\n",
            "\n",
            "/sbin/ldconfig.real: /usr/local/lib/libtbbbind_2_0.so.3 is not a symbolic link\n",
            "\n",
            "/sbin/ldconfig.real: /usr/local/lib/libumf.so.0 is not a symbolic link\n",
            "\n",
            "/sbin/ldconfig.real: /usr/local/lib/libhwloc.so.15 is not a symbolic link\n",
            "\n",
            "/sbin/ldconfig.real: /usr/local/lib/libur_adapter_opencl.so.0 is not a symbolic link\n",
            "\n",
            "/sbin/ldconfig.real: /usr/local/lib/libur_adapter_level_zero.so.0 is not a symbolic link\n",
            "\n",
            "/sbin/ldconfig.real: /usr/local/lib/libtcm.so.1 is not a symbolic link\n",
            "\n",
            "/sbin/ldconfig.real: /usr/local/lib/libtbbmalloc_proxy.so.2 is not a symbolic link\n",
            "\n",
            "/sbin/ldconfig.real: /usr/local/lib/libtbb.so.12 is not a symbolic link\n",
            "\n",
            "/sbin/ldconfig.real: /usr/local/lib/libur_loader.so.0 is not a symbolic link\n",
            "\n",
            "/sbin/ldconfig.real: /usr/local/lib/libtcm_debug.so.1 is not a symbolic link\n",
            "\n",
            "/sbin/ldconfig.real: /usr/local/lib/libtbbbind_2_5.so.3 is not a symbolic link\n",
            "\n",
            "Requirement already satisfied: langchain in /usr/local/lib/python3.10/dist-packages (0.3.14)\n",
            "Requirement already satisfied: PyYAML>=5.3 in /usr/local/lib/python3.10/dist-packages (from langchain) (6.0.2)\n",
            "Requirement already satisfied: SQLAlchemy<3,>=1.4 in /usr/local/lib/python3.10/dist-packages (from langchain) (2.0.36)\n",
            "Requirement already satisfied: aiohttp<4.0.0,>=3.8.3 in /usr/local/lib/python3.10/dist-packages (from langchain) (3.11.11)\n",
            "Requirement already satisfied: async-timeout<5.0.0,>=4.0.0 in /usr/local/lib/python3.10/dist-packages (from langchain) (4.0.3)\n",
            "Requirement already satisfied: langchain-core<0.4.0,>=0.3.29 in /usr/local/lib/python3.10/dist-packages (from langchain) (0.3.29)\n",
            "Requirement already satisfied: langchain-text-splitters<0.4.0,>=0.3.3 in /usr/local/lib/python3.10/dist-packages (from langchain) (0.3.5)\n",
            "Requirement already satisfied: langsmith<0.3,>=0.1.17 in /usr/local/lib/python3.10/dist-packages (from langchain) (0.2.10)\n",
            "Requirement already satisfied: numpy<2,>=1.22.4 in /usr/local/lib/python3.10/dist-packages (from langchain) (1.26.4)\n",
            "Requirement already satisfied: pydantic<3.0.0,>=2.7.4 in /usr/local/lib/python3.10/dist-packages (from langchain) (2.10.4)\n",
            "Requirement already satisfied: requests<3,>=2 in /usr/local/lib/python3.10/dist-packages (from langchain) (2.32.3)\n",
            "Requirement already satisfied: tenacity!=8.4.0,<10,>=8.1.0 in /usr/local/lib/python3.10/dist-packages (from langchain) (9.0.0)\n",
            "Requirement already satisfied: aiohappyeyeballs>=2.3.0 in /usr/local/lib/python3.10/dist-packages (from aiohttp<4.0.0,>=3.8.3->langchain) (2.4.4)\n",
            "Requirement already satisfied: aiosignal>=1.1.2 in /usr/local/lib/python3.10/dist-packages (from aiohttp<4.0.0,>=3.8.3->langchain) (1.3.2)\n",
            "Requirement already satisfied: attrs>=17.3.0 in /usr/local/lib/python3.10/dist-packages (from aiohttp<4.0.0,>=3.8.3->langchain) (24.3.0)\n",
            "Requirement already satisfied: frozenlist>=1.1.1 in /usr/local/lib/python3.10/dist-packages (from aiohttp<4.0.0,>=3.8.3->langchain) (1.5.0)\n",
            "Requirement already satisfied: multidict<7.0,>=4.5 in /usr/local/lib/python3.10/dist-packages (from aiohttp<4.0.0,>=3.8.3->langchain) (6.1.0)\n",
            "Requirement already satisfied: propcache>=0.2.0 in /usr/local/lib/python3.10/dist-packages (from aiohttp<4.0.0,>=3.8.3->langchain) (0.2.1)\n",
            "Requirement already satisfied: yarl<2.0,>=1.17.0 in /usr/local/lib/python3.10/dist-packages (from aiohttp<4.0.0,>=3.8.3->langchain) (1.18.3)\n",
            "Requirement already satisfied: jsonpatch<2.0,>=1.33 in /usr/local/lib/python3.10/dist-packages (from langchain-core<0.4.0,>=0.3.29->langchain) (1.33)\n",
            "Requirement already satisfied: packaging<25,>=23.2 in /usr/local/lib/python3.10/dist-packages (from langchain-core<0.4.0,>=0.3.29->langchain) (24.2)\n",
            "Requirement already satisfied: typing-extensions>=4.7 in /usr/local/lib/python3.10/dist-packages (from langchain-core<0.4.0,>=0.3.29->langchain) (4.12.2)\n",
            "Requirement already satisfied: httpx<1,>=0.23.0 in /usr/local/lib/python3.10/dist-packages (from langsmith<0.3,>=0.1.17->langchain) (0.28.1)\n",
            "Requirement already satisfied: orjson<4.0.0,>=3.9.14 in /usr/local/lib/python3.10/dist-packages (from langsmith<0.3,>=0.1.17->langchain) (3.10.13)\n",
            "Requirement already satisfied: requests-toolbelt<2.0.0,>=1.0.0 in /usr/local/lib/python3.10/dist-packages (from langsmith<0.3,>=0.1.17->langchain) (1.0.0)\n",
            "Requirement already satisfied: annotated-types>=0.6.0 in /usr/local/lib/python3.10/dist-packages (from pydantic<3.0.0,>=2.7.4->langchain) (0.7.0)\n",
            "Requirement already satisfied: pydantic-core==2.27.2 in /usr/local/lib/python3.10/dist-packages (from pydantic<3.0.0,>=2.7.4->langchain) (2.27.2)\n",
            "Requirement already satisfied: charset-normalizer<4,>=2 in /usr/local/lib/python3.10/dist-packages (from requests<3,>=2->langchain) (3.4.1)\n",
            "Requirement already satisfied: idna<4,>=2.5 in /usr/local/lib/python3.10/dist-packages (from requests<3,>=2->langchain) (3.10)\n",
            "Requirement already satisfied: urllib3<3,>=1.21.1 in /usr/local/lib/python3.10/dist-packages (from requests<3,>=2->langchain) (2.3.0)\n",
            "Requirement already satisfied: certifi>=2017.4.17 in /usr/local/lib/python3.10/dist-packages (from requests<3,>=2->langchain) (2024.12.14)\n",
            "Requirement already satisfied: greenlet!=0.4.17 in /usr/local/lib/python3.10/dist-packages (from SQLAlchemy<3,>=1.4->langchain) (3.1.1)\n",
            "Requirement already satisfied: anyio in /usr/local/lib/python3.10/dist-packages (from httpx<1,>=0.23.0->langsmith<0.3,>=0.1.17->langchain) (3.7.1)\n",
            "Requirement already satisfied: httpcore==1.* in /usr/local/lib/python3.10/dist-packages (from httpx<1,>=0.23.0->langsmith<0.3,>=0.1.17->langchain) (1.0.7)\n",
            "Requirement already satisfied: h11<0.15,>=0.13 in /usr/local/lib/python3.10/dist-packages (from httpcore==1.*->httpx<1,>=0.23.0->langsmith<0.3,>=0.1.17->langchain) (0.14.0)\n",
            "Requirement already satisfied: jsonpointer>=1.9 in /usr/local/lib/python3.10/dist-packages (from jsonpatch<2.0,>=1.33->langchain-core<0.4.0,>=0.3.29->langchain) (3.0.0)\n",
            "Requirement already satisfied: sniffio>=1.1 in /usr/local/lib/python3.10/dist-packages (from anyio->httpx<1,>=0.23.0->langsmith<0.3,>=0.1.17->langchain) (1.3.1)\n",
            "Requirement already satisfied: exceptiongroup in /usr/local/lib/python3.10/dist-packages (from anyio->httpx<1,>=0.23.0->langsmith<0.3,>=0.1.17->langchain) (1.2.2)\n"
          ]
        }
      ]
    },
    {
      "cell_type": "code",
      "source": [
        "!pip install -U langchain-community"
      ],
      "metadata": {
        "colab": {
          "base_uri": "https://localhost:8080/"
        },
        "collapsed": true,
        "id": "zfVljCEUwDN8",
        "outputId": "0558c13b-a90f-40d2-89ad-f555dd153bea"
      },
      "execution_count": 3,
      "outputs": [
        {
          "output_type": "stream",
          "name": "stdout",
          "text": [
            "Collecting langchain-community\n",
            "  Downloading langchain_community-0.3.14-py3-none-any.whl.metadata (2.9 kB)\n",
            "Requirement already satisfied: PyYAML>=5.3 in /usr/local/lib/python3.10/dist-packages (from langchain-community) (6.0.2)\n",
            "Requirement already satisfied: SQLAlchemy<3,>=1.4 in /usr/local/lib/python3.10/dist-packages (from langchain-community) (2.0.36)\n",
            "Requirement already satisfied: aiohttp<4.0.0,>=3.8.3 in /usr/local/lib/python3.10/dist-packages (from langchain-community) (3.11.11)\n",
            "Collecting dataclasses-json<0.7,>=0.5.7 (from langchain-community)\n",
            "  Downloading dataclasses_json-0.6.7-py3-none-any.whl.metadata (25 kB)\n",
            "Collecting httpx-sse<0.5.0,>=0.4.0 (from langchain-community)\n",
            "  Downloading httpx_sse-0.4.0-py3-none-any.whl.metadata (9.0 kB)\n",
            "Requirement already satisfied: langchain<0.4.0,>=0.3.14 in /usr/local/lib/python3.10/dist-packages (from langchain-community) (0.3.14)\n",
            "Requirement already satisfied: langchain-core<0.4.0,>=0.3.29 in /usr/local/lib/python3.10/dist-packages (from langchain-community) (0.3.29)\n",
            "Requirement already satisfied: langsmith<0.3,>=0.1.125 in /usr/local/lib/python3.10/dist-packages (from langchain-community) (0.2.10)\n",
            "Requirement already satisfied: numpy<2,>=1.22.4 in /usr/local/lib/python3.10/dist-packages (from langchain-community) (1.26.4)\n",
            "Collecting pydantic-settings<3.0.0,>=2.4.0 (from langchain-community)\n",
            "  Downloading pydantic_settings-2.7.1-py3-none-any.whl.metadata (3.5 kB)\n",
            "Requirement already satisfied: requests<3,>=2 in /usr/local/lib/python3.10/dist-packages (from langchain-community) (2.32.3)\n",
            "Requirement already satisfied: tenacity!=8.4.0,<10,>=8.1.0 in /usr/local/lib/python3.10/dist-packages (from langchain-community) (9.0.0)\n",
            "Requirement already satisfied: aiohappyeyeballs>=2.3.0 in /usr/local/lib/python3.10/dist-packages (from aiohttp<4.0.0,>=3.8.3->langchain-community) (2.4.4)\n",
            "Requirement already satisfied: aiosignal>=1.1.2 in /usr/local/lib/python3.10/dist-packages (from aiohttp<4.0.0,>=3.8.3->langchain-community) (1.3.2)\n",
            "Requirement already satisfied: async-timeout<6.0,>=4.0 in /usr/local/lib/python3.10/dist-packages (from aiohttp<4.0.0,>=3.8.3->langchain-community) (4.0.3)\n",
            "Requirement already satisfied: attrs>=17.3.0 in /usr/local/lib/python3.10/dist-packages (from aiohttp<4.0.0,>=3.8.3->langchain-community) (24.3.0)\n",
            "Requirement already satisfied: frozenlist>=1.1.1 in /usr/local/lib/python3.10/dist-packages (from aiohttp<4.0.0,>=3.8.3->langchain-community) (1.5.0)\n",
            "Requirement already satisfied: multidict<7.0,>=4.5 in /usr/local/lib/python3.10/dist-packages (from aiohttp<4.0.0,>=3.8.3->langchain-community) (6.1.0)\n",
            "Requirement already satisfied: propcache>=0.2.0 in /usr/local/lib/python3.10/dist-packages (from aiohttp<4.0.0,>=3.8.3->langchain-community) (0.2.1)\n",
            "Requirement already satisfied: yarl<2.0,>=1.17.0 in /usr/local/lib/python3.10/dist-packages (from aiohttp<4.0.0,>=3.8.3->langchain-community) (1.18.3)\n",
            "Collecting marshmallow<4.0.0,>=3.18.0 (from dataclasses-json<0.7,>=0.5.7->langchain-community)\n",
            "  Downloading marshmallow-3.25.0-py3-none-any.whl.metadata (7.1 kB)\n",
            "Collecting typing-inspect<1,>=0.4.0 (from dataclasses-json<0.7,>=0.5.7->langchain-community)\n",
            "  Downloading typing_inspect-0.9.0-py3-none-any.whl.metadata (1.5 kB)\n",
            "Requirement already satisfied: langchain-text-splitters<0.4.0,>=0.3.3 in /usr/local/lib/python3.10/dist-packages (from langchain<0.4.0,>=0.3.14->langchain-community) (0.3.5)\n",
            "Requirement already satisfied: pydantic<3.0.0,>=2.7.4 in /usr/local/lib/python3.10/dist-packages (from langchain<0.4.0,>=0.3.14->langchain-community) (2.10.4)\n",
            "Requirement already satisfied: jsonpatch<2.0,>=1.33 in /usr/local/lib/python3.10/dist-packages (from langchain-core<0.4.0,>=0.3.29->langchain-community) (1.33)\n",
            "Requirement already satisfied: packaging<25,>=23.2 in /usr/local/lib/python3.10/dist-packages (from langchain-core<0.4.0,>=0.3.29->langchain-community) (24.2)\n",
            "Requirement already satisfied: typing-extensions>=4.7 in /usr/local/lib/python3.10/dist-packages (from langchain-core<0.4.0,>=0.3.29->langchain-community) (4.12.2)\n",
            "Requirement already satisfied: httpx<1,>=0.23.0 in /usr/local/lib/python3.10/dist-packages (from langsmith<0.3,>=0.1.125->langchain-community) (0.28.1)\n",
            "Requirement already satisfied: orjson<4.0.0,>=3.9.14 in /usr/local/lib/python3.10/dist-packages (from langsmith<0.3,>=0.1.125->langchain-community) (3.10.13)\n",
            "Requirement already satisfied: requests-toolbelt<2.0.0,>=1.0.0 in /usr/local/lib/python3.10/dist-packages (from langsmith<0.3,>=0.1.125->langchain-community) (1.0.0)\n",
            "Requirement already satisfied: python-dotenv>=0.21.0 in /usr/local/lib/python3.10/dist-packages (from pydantic-settings<3.0.0,>=2.4.0->langchain-community) (1.0.1)\n",
            "Requirement already satisfied: charset-normalizer<4,>=2 in /usr/local/lib/python3.10/dist-packages (from requests<3,>=2->langchain-community) (3.4.1)\n",
            "Requirement already satisfied: idna<4,>=2.5 in /usr/local/lib/python3.10/dist-packages (from requests<3,>=2->langchain-community) (3.10)\n",
            "Requirement already satisfied: urllib3<3,>=1.21.1 in /usr/local/lib/python3.10/dist-packages (from requests<3,>=2->langchain-community) (2.3.0)\n",
            "Requirement already satisfied: certifi>=2017.4.17 in /usr/local/lib/python3.10/dist-packages (from requests<3,>=2->langchain-community) (2024.12.14)\n",
            "Requirement already satisfied: greenlet!=0.4.17 in /usr/local/lib/python3.10/dist-packages (from SQLAlchemy<3,>=1.4->langchain-community) (3.1.1)\n",
            "Requirement already satisfied: anyio in /usr/local/lib/python3.10/dist-packages (from httpx<1,>=0.23.0->langsmith<0.3,>=0.1.125->langchain-community) (3.7.1)\n",
            "Requirement already satisfied: httpcore==1.* in /usr/local/lib/python3.10/dist-packages (from httpx<1,>=0.23.0->langsmith<0.3,>=0.1.125->langchain-community) (1.0.7)\n",
            "Requirement already satisfied: h11<0.15,>=0.13 in /usr/local/lib/python3.10/dist-packages (from httpcore==1.*->httpx<1,>=0.23.0->langsmith<0.3,>=0.1.125->langchain-community) (0.14.0)\n",
            "Requirement already satisfied: jsonpointer>=1.9 in /usr/local/lib/python3.10/dist-packages (from jsonpatch<2.0,>=1.33->langchain-core<0.4.0,>=0.3.29->langchain-community) (3.0.0)\n",
            "Requirement already satisfied: annotated-types>=0.6.0 in /usr/local/lib/python3.10/dist-packages (from pydantic<3.0.0,>=2.7.4->langchain<0.4.0,>=0.3.14->langchain-community) (0.7.0)\n",
            "Requirement already satisfied: pydantic-core==2.27.2 in /usr/local/lib/python3.10/dist-packages (from pydantic<3.0.0,>=2.7.4->langchain<0.4.0,>=0.3.14->langchain-community) (2.27.2)\n",
            "Collecting mypy-extensions>=0.3.0 (from typing-inspect<1,>=0.4.0->dataclasses-json<0.7,>=0.5.7->langchain-community)\n",
            "  Downloading mypy_extensions-1.0.0-py3-none-any.whl.metadata (1.1 kB)\n",
            "Requirement already satisfied: sniffio>=1.1 in /usr/local/lib/python3.10/dist-packages (from anyio->httpx<1,>=0.23.0->langsmith<0.3,>=0.1.125->langchain-community) (1.3.1)\n",
            "Requirement already satisfied: exceptiongroup in /usr/local/lib/python3.10/dist-packages (from anyio->httpx<1,>=0.23.0->langsmith<0.3,>=0.1.125->langchain-community) (1.2.2)\n",
            "Downloading langchain_community-0.3.14-py3-none-any.whl (2.5 MB)\n",
            "\u001b[2K   \u001b[90m━━━━━━━━━━━━━━━━━━━━━━━━━━━━━━━━━━━━━━━━\u001b[0m \u001b[32m2.5/2.5 MB\u001b[0m \u001b[31m18.8 MB/s\u001b[0m eta \u001b[36m0:00:00\u001b[0m\n",
            "\u001b[?25hDownloading dataclasses_json-0.6.7-py3-none-any.whl (28 kB)\n",
            "Downloading httpx_sse-0.4.0-py3-none-any.whl (7.8 kB)\n",
            "Downloading pydantic_settings-2.7.1-py3-none-any.whl (29 kB)\n",
            "Downloading marshmallow-3.25.0-py3-none-any.whl (49 kB)\n",
            "\u001b[2K   \u001b[90m━━━━━━━━━━━━━━━━━━━━━━━━━━━━━━━━━━━━━━━━\u001b[0m \u001b[32m49.5/49.5 kB\u001b[0m \u001b[31m2.0 MB/s\u001b[0m eta \u001b[36m0:00:00\u001b[0m\n",
            "\u001b[?25hDownloading typing_inspect-0.9.0-py3-none-any.whl (8.8 kB)\n",
            "Downloading mypy_extensions-1.0.0-py3-none-any.whl (4.7 kB)\n",
            "Installing collected packages: mypy-extensions, marshmallow, httpx-sse, typing-inspect, pydantic-settings, dataclasses-json, langchain-community\n",
            "Successfully installed dataclasses-json-0.6.7 httpx-sse-0.4.0 langchain-community-0.3.14 marshmallow-3.25.0 mypy-extensions-1.0.0 pydantic-settings-2.7.1 typing-inspect-0.9.0\n"
          ]
        }
      ]
    },
    {
      "cell_type": "code",
      "source": [
        " import urllib\n",
        " import warnings\n",
        " from pathlib import Path as p\n",
        " from pprint import pprint\n",
        "\n",
        " import pandas as pd\n",
        " from langchain import PromptTemplate\n",
        " from langchain.chains.question_answering import load_qa_chain\n",
        " from langchain.document_loaders import PyPDFLoader\n",
        " from langchain.text_splitter import RecursiveCharacterTextSplitter\n",
        " from langchain.vectorstores import Chroma\n",
        " from langchain.chains import RetrievalQA\n",
        "\n",
        " warnings.filterwarnings(\"ignore\")"
      ],
      "metadata": {
        "id": "JwZCkjOxwd3L"
      },
      "execution_count": 5,
      "outputs": []
    },
    {
      "cell_type": "code",
      "source": [
        "pdf = PyPDFLoader(\"/content/movie_recommendation.pdf\")\n",
        "document = pdf.load_and_split()"
      ],
      "metadata": {
        "id": "wOZgJwM-0e0I"
      },
      "execution_count": 7,
      "outputs": []
    },
    {
      "cell_type": "code",
      "source": [
        "document"
      ],
      "metadata": {
        "colab": {
          "base_uri": "https://localhost:8080/"
        },
        "collapsed": true,
        "id": "kInu1nYP0qE4",
        "outputId": "a01b87d0-4f4b-48c4-c27d-9d905681ae6e"
      },
      "execution_count": 8,
      "outputs": [
        {
          "output_type": "execute_result",
          "data": {
            "text/plain": [
              "[Document(metadata={'source': '/content/movie_recommendation.pdf', 'page': 0}, page_content='Movie Title Genre Summary Rating Release Year\\nMovie 1 Action Summary for\\nMovie 1\\n3.5 2001\\nMovie 2 Comedy Summary for\\nMovie 2\\n4.0 2002\\nMovie 3 Drama Summary for\\nMovie 3\\n3.0 2003\\nMovie 4 Horror Summary for\\nMovie 4\\n3.5 2004\\nMovie 5 Sci-Fi Summary for\\nMovie 5\\n4.0 2005\\nMovie 6 Action Summary for\\nMovie 6\\n3.0 2006\\nMovie 7 Comedy Summary for\\nMovie 7\\n3.5 2007\\nMovie 8 Drama Summary for\\nMovie 8\\n4.0 2008\\nMovie 9 Horror Summary for\\nMovie 9\\n3.0 2009\\nMovie 10 Sci-Fi Summary for\\nMovie 10\\n3.5 2010\\nMovie 11 Action Summary for\\nMovie 11\\n4.0 2011\\nMovie 12 Comedy Summary for\\nMovie 12\\n3.0 2012\\nMovie 13 Drama Summary for\\nMovie 13\\n3.5 2013\\nMovie 14 Horror Summary for\\nMovie 14\\n4.0 2014\\nMovie 15 Sci-Fi Summary for\\nMovie 15\\n3.0 2015\\nMovie 16 Action Summary for\\nMovie 16\\n3.5 2016\\nMovie 17 Comedy Summary for\\nMovie 17\\n4.0 2017\\nMovie 18 Drama Summary for\\nMovie 18\\n3.0 2018\\nMovie 19 Horror Summary for\\nMovie 19\\n3.5 2019\\nMovie 20 Sci-Fi Summary for\\nMovie 20\\n4.0 2000\\nMovie 21 Action Summary for\\nMovie 21\\n3.0 2001\\nMovie 22 Comedy Summary for\\nMovie 22\\n3.5 2002\\nMovie 23 Drama Summary for\\nMovie 23\\n4.0 2003\\nMovie 24 Horror Summary for\\nMovie 24\\n3.0 2004\\nMovie 25 Sci-Fi Summary for\\nMovie 25\\n3.5 2005'),\n",
              " Document(metadata={'source': '/content/movie_recommendation.pdf', 'page': 1}, page_content='Movie 26 Action Summary for\\nMovie 26\\n4.0 2006\\nMovie 27 Comedy Summary for\\nMovie 27\\n3.0 2007\\nMovie 28 Drama Summary for\\nMovie 28\\n3.5 2008\\nMovie 29 Horror Summary for\\nMovie 29\\n4.0 2009\\nMovie 30 Sci-Fi Summary for\\nMovie 30\\n3.0 2010\\nMovie 31 Action Summary for\\nMovie 31\\n3.5 2011\\nMovie 32 Comedy Summary for\\nMovie 32\\n4.0 2012\\nMovie 33 Drama Summary for\\nMovie 33\\n3.0 2013\\nMovie 34 Horror Summary for\\nMovie 34\\n3.5 2014\\nMovie 35 Sci-Fi Summary for\\nMovie 35\\n4.0 2015\\nMovie 36 Action Summary for\\nMovie 36\\n3.0 2016\\nMovie 37 Comedy Summary for\\nMovie 37\\n3.5 2017\\nMovie 38 Drama Summary for\\nMovie 38\\n4.0 2018\\nMovie 39 Horror Summary for\\nMovie 39\\n3.0 2019\\nMovie 40 Sci-Fi Summary for\\nMovie 40\\n3.5 2000\\nMovie 41 Action Summary for\\nMovie 41\\n4.0 2001\\nMovie 42 Comedy Summary for\\nMovie 42\\n3.0 2002\\nMovie 43 Drama Summary for\\nMovie 43\\n3.5 2003\\nMovie 44 Horror Summary for\\nMovie 44\\n4.0 2004\\nMovie 45 Sci-Fi Summary for\\nMovie 45\\n3.0 2005\\nMovie 46 Action Summary for\\nMovie 46\\n3.5 2006\\nMovie 47 Comedy Summary for\\nMovie 47\\n4.0 2007\\nMovie 48 Drama Summary for\\nMovie 48\\n3.0 2008\\nMovie 49 Horror Summary for\\nMovie 49\\n3.5 2009\\nMovie 50 Sci-Fi Summary for\\nMovie 50\\n4.0 2010\\nMovie 51 Action Summary for\\nMovie 51\\n3.0 2011'),\n",
              " Document(metadata={'source': '/content/movie_recommendation.pdf', 'page': 2}, page_content='Movie 52 Comedy Summary for\\nMovie 52\\n3.5 2012\\nMovie 53 Drama Summary for\\nMovie 53\\n4.0 2013\\nMovie 54 Horror Summary for\\nMovie 54\\n3.0 2014\\nMovie 55 Sci-Fi Summary for\\nMovie 55\\n3.5 2015\\nMovie 56 Action Summary for\\nMovie 56\\n4.0 2016\\nMovie 57 Comedy Summary for\\nMovie 57\\n3.0 2017\\nMovie 58 Drama Summary for\\nMovie 58\\n3.5 2018\\nMovie 59 Horror Summary for\\nMovie 59\\n4.0 2019\\nMovie 60 Sci-Fi Summary for\\nMovie 60\\n3.0 2000\\nMovie 61 Action Summary for\\nMovie 61\\n3.5 2001\\nMovie 62 Comedy Summary for\\nMovie 62\\n4.0 2002\\nMovie 63 Drama Summary for\\nMovie 63\\n3.0 2003\\nMovie 64 Horror Summary for\\nMovie 64\\n3.5 2004\\nMovie 65 Sci-Fi Summary for\\nMovie 65\\n4.0 2005\\nMovie 66 Action Summary for\\nMovie 66\\n3.0 2006\\nMovie 67 Comedy Summary for\\nMovie 67\\n3.5 2007\\nMovie 68 Drama Summary for\\nMovie 68\\n4.0 2008\\nMovie 69 Horror Summary for\\nMovie 69\\n3.0 2009\\nMovie 70 Sci-Fi Summary for\\nMovie 70\\n3.5 2010\\nMovie 71 Action Summary for\\nMovie 71\\n4.0 2011\\nMovie 72 Comedy Summary for\\nMovie 72\\n3.0 2012\\nMovie 73 Drama Summary for\\nMovie 73\\n3.5 2013\\nMovie 74 Horror Summary for\\nMovie 74\\n4.0 2014\\nMovie 75 Sci-Fi Summary for\\nMovie 75\\n3.0 2015\\nMovie 76 Action Summary for\\nMovie 76\\n3.5 2016\\nMovie 77 Comedy Summary for\\nMovie 77\\n4.0 2017'),\n",
              " Document(metadata={'source': '/content/movie_recommendation.pdf', 'page': 3}, page_content='Movie 78 Drama Summary for\\nMovie 78\\n3.0 2018\\nMovie 79 Horror Summary for\\nMovie 79\\n3.5 2019\\nMovie 80 Sci-Fi Summary for\\nMovie 80\\n4.0 2000\\nMovie 81 Action Summary for\\nMovie 81\\n3.0 2001\\nMovie 82 Comedy Summary for\\nMovie 82\\n3.5 2002\\nMovie 83 Drama Summary for\\nMovie 83\\n4.0 2003\\nMovie 84 Horror Summary for\\nMovie 84\\n3.0 2004\\nMovie 85 Sci-Fi Summary for\\nMovie 85\\n3.5 2005\\nMovie 86 Action Summary for\\nMovie 86\\n4.0 2006\\nMovie 87 Comedy Summary for\\nMovie 87\\n3.0 2007\\nMovie 88 Drama Summary for\\nMovie 88\\n3.5 2008\\nMovie 89 Horror Summary for\\nMovie 89\\n4.0 2009\\nMovie 90 Sci-Fi Summary for\\nMovie 90\\n3.0 2010\\nMovie 91 Action Summary for\\nMovie 91\\n3.5 2011\\nMovie 92 Comedy Summary for\\nMovie 92\\n4.0 2012\\nMovie 93 Drama Summary for\\nMovie 93\\n3.0 2013\\nMovie 94 Horror Summary for\\nMovie 94\\n3.5 2014\\nMovie 95 Sci-Fi Summary for\\nMovie 95\\n4.0 2015\\nMovie 96 Action Summary for\\nMovie 96\\n3.0 2016\\nMovie 97 Comedy Summary for\\nMovie 97\\n3.5 2017\\nMovie 98 Drama Summary for\\nMovie 98\\n4.0 2018\\nMovie 99 Horror Summary for\\nMovie 99\\n3.0 2019\\nMovie 100 Sci-Fi Summary for\\nMovie 100\\n3.5 2000\\nMovie 101 Action Summary for\\nMovie 101\\n4.0 2001\\nMovie 102 Comedy Summary for\\nMovie 102\\n3.0 2002\\nMovie 103 Drama Summary for\\nMovie 103\\n3.5 2003'),\n",
              " Document(metadata={'source': '/content/movie_recommendation.pdf', 'page': 4}, page_content='Movie 104 Horror Summary for\\nMovie 104\\n4.0 2004\\nMovie 105 Sci-Fi Summary for\\nMovie 105\\n3.0 2005\\nMovie 106 Action Summary for\\nMovie 106\\n3.5 2006\\nMovie 107 Comedy Summary for\\nMovie 107\\n4.0 2007\\nMovie 108 Drama Summary for\\nMovie 108\\n3.0 2008\\nMovie 109 Horror Summary for\\nMovie 109\\n3.5 2009\\nMovie 110 Sci-Fi Summary for\\nMovie 110\\n4.0 2010\\nMovie 111 Action Summary for\\nMovie 111\\n3.0 2011\\nMovie 112 Comedy Summary for\\nMovie 112\\n3.5 2012\\nMovie 113 Drama Summary for\\nMovie 113\\n4.0 2013\\nMovie 114 Horror Summary for\\nMovie 114\\n3.0 2014\\nMovie 115 Sci-Fi Summary for\\nMovie 115\\n3.5 2015\\nMovie 116 Action Summary for\\nMovie 116\\n4.0 2016\\nMovie 117 Comedy Summary for\\nMovie 117\\n3.0 2017\\nMovie 118 Drama Summary for\\nMovie 118\\n3.5 2018\\nMovie 119 Horror Summary for\\nMovie 119\\n4.0 2019\\nMovie 120 Sci-Fi Summary for\\nMovie 120\\n3.0 2000\\nMovie 121 Action Summary for\\nMovie 121\\n3.5 2001\\nMovie 122 Comedy Summary for\\nMovie 122\\n4.0 2002\\nMovie 123 Drama Summary for\\nMovie 123\\n3.0 2003\\nMovie 124 Horror Summary for\\nMovie 124\\n3.5 2004\\nMovie 125 Sci-Fi Summary for\\nMovie 125\\n4.0 2005\\nMovie 126 Action Summary for\\nMovie 126\\n3.0 2006\\nMovie 127 Comedy Summary for\\nMovie 127\\n3.5 2007\\nMovie 128 Drama Summary for\\nMovie 128\\n4.0 2008\\nMovie 129 Horror Summary for\\nMovie 129\\n3.0 2009'),\n",
              " Document(metadata={'source': '/content/movie_recommendation.pdf', 'page': 5}, page_content='Movie 130 Sci-Fi Summary for\\nMovie 130\\n3.5 2010\\nMovie 131 Action Summary for\\nMovie 131\\n4.0 2011\\nMovie 132 Comedy Summary for\\nMovie 132\\n3.0 2012\\nMovie 133 Drama Summary for\\nMovie 133\\n3.5 2013\\nMovie 134 Horror Summary for\\nMovie 134\\n4.0 2014\\nMovie 135 Sci-Fi Summary for\\nMovie 135\\n3.0 2015\\nMovie 136 Action Summary for\\nMovie 136\\n3.5 2016\\nMovie 137 Comedy Summary for\\nMovie 137\\n4.0 2017\\nMovie 138 Drama Summary for\\nMovie 138\\n3.0 2018\\nMovie 139 Horror Summary for\\nMovie 139\\n3.5 2019\\nMovie 140 Sci-Fi Summary for\\nMovie 140\\n4.0 2000\\nMovie 141 Action Summary for\\nMovie 141\\n3.0 2001\\nMovie 142 Comedy Summary for\\nMovie 142\\n3.5 2002\\nMovie 143 Drama Summary for\\nMovie 143\\n4.0 2003\\nMovie 144 Horror Summary for\\nMovie 144\\n3.0 2004\\nMovie 145 Sci-Fi Summary for\\nMovie 145\\n3.5 2005\\nMovie 146 Action Summary for\\nMovie 146\\n4.0 2006\\nMovie 147 Comedy Summary for\\nMovie 147\\n3.0 2007\\nMovie 148 Drama Summary for\\nMovie 148\\n3.5 2008\\nMovie 149 Horror Summary for\\nMovie 149\\n4.0 2009\\nMovie 150 Sci-Fi Summary for\\nMovie 150\\n3.0 2010\\nMovie 151 Action Summary for\\nMovie 151\\n3.5 2011\\nMovie 152 Comedy Summary for\\nMovie 152\\n4.0 2012\\nMovie 153 Drama Summary for\\nMovie 153\\n3.0 2013\\nMovie 154 Horror Summary for\\nMovie 154\\n3.5 2014\\nMovie 155 Sci-Fi Summary for\\nMovie 155\\n4.0 2015'),\n",
              " Document(metadata={'source': '/content/movie_recommendation.pdf', 'page': 6}, page_content='Movie 156 Action Summary for\\nMovie 156\\n3.0 2016\\nMovie 157 Comedy Summary for\\nMovie 157\\n3.5 2017\\nMovie 158 Drama Summary for\\nMovie 158\\n4.0 2018\\nMovie 159 Horror Summary for\\nMovie 159\\n3.0 2019\\nMovie 160 Sci-Fi Summary for\\nMovie 160\\n3.5 2000\\nMovie 161 Action Summary for\\nMovie 161\\n4.0 2001\\nMovie 162 Comedy Summary for\\nMovie 162\\n3.0 2002\\nMovie 163 Drama Summary for\\nMovie 163\\n3.5 2003\\nMovie 164 Horror Summary for\\nMovie 164\\n4.0 2004\\nMovie 165 Sci-Fi Summary for\\nMovie 165\\n3.0 2005\\nMovie 166 Action Summary for\\nMovie 166\\n3.5 2006\\nMovie 167 Comedy Summary for\\nMovie 167\\n4.0 2007\\nMovie 168 Drama Summary for\\nMovie 168\\n3.0 2008\\nMovie 169 Horror Summary for\\nMovie 169\\n3.5 2009\\nMovie 170 Sci-Fi Summary for\\nMovie 170\\n4.0 2010\\nMovie 171 Action Summary for\\nMovie 171\\n3.0 2011\\nMovie 172 Comedy Summary for\\nMovie 172\\n3.5 2012\\nMovie 173 Drama Summary for\\nMovie 173\\n4.0 2013\\nMovie 174 Horror Summary for\\nMovie 174\\n3.0 2014\\nMovie 175 Sci-Fi Summary for\\nMovie 175\\n3.5 2015\\nMovie 176 Action Summary for\\nMovie 176\\n4.0 2016\\nMovie 177 Comedy Summary for\\nMovie 177\\n3.0 2017\\nMovie 178 Drama Summary for\\nMovie 178\\n3.5 2018\\nMovie 179 Horror Summary for\\nMovie 179\\n4.0 2019\\nMovie 180 Sci-Fi Summary for\\nMovie 180\\n3.0 2000\\nMovie 181 Action Summary for\\nMovie 181\\n3.5 2001'),\n",
              " Document(metadata={'source': '/content/movie_recommendation.pdf', 'page': 7}, page_content='Movie 182 Comedy Summary for\\nMovie 182\\n4.0 2002\\nMovie 183 Drama Summary for\\nMovie 183\\n3.0 2003\\nMovie 184 Horror Summary for\\nMovie 184\\n3.5 2004\\nMovie 185 Sci-Fi Summary for\\nMovie 185\\n4.0 2005\\nMovie 186 Action Summary for\\nMovie 186\\n3.0 2006\\nMovie 187 Comedy Summary for\\nMovie 187\\n3.5 2007\\nMovie 188 Drama Summary for\\nMovie 188\\n4.0 2008\\nMovie 189 Horror Summary for\\nMovie 189\\n3.0 2009\\nMovie 190 Sci-Fi Summary for\\nMovie 190\\n3.5 2010\\nMovie 191 Action Summary for\\nMovie 191\\n4.0 2011\\nMovie 192 Comedy Summary for\\nMovie 192\\n3.0 2012\\nMovie 193 Drama Summary for\\nMovie 193\\n3.5 2013\\nMovie 194 Horror Summary for\\nMovie 194\\n4.0 2014\\nMovie 195 Sci-Fi Summary for\\nMovie 195\\n3.0 2015\\nMovie 196 Action Summary for\\nMovie 196\\n3.5 2016\\nMovie 197 Comedy Summary for\\nMovie 197\\n4.0 2017\\nMovie 198 Drama Summary for\\nMovie 198\\n3.0 2018\\nMovie 199 Horror Summary for\\nMovie 199\\n3.5 2019\\nMovie 200 Sci-Fi Summary for\\nMovie 200\\n4.0 2000\\nMovie 201 Action Summary for\\nMovie 201\\n3.0 2001\\nMovie 202 Comedy Summary for\\nMovie 202\\n3.5 2002\\nMovie 203 Drama Summary for\\nMovie 203\\n4.0 2003\\nMovie 204 Horror Summary for\\nMovie 204\\n3.0 2004\\nMovie 205 Sci-Fi Summary for\\nMovie 205\\n3.5 2005\\nMovie 206 Action Summary for\\nMovie 206\\n4.0 2006\\nMovie 207 Comedy Summary for\\nMovie 207\\n3.0 2007'),\n",
              " Document(metadata={'source': '/content/movie_recommendation.pdf', 'page': 8}, page_content='Movie 208 Drama Summary for\\nMovie 208\\n3.5 2008\\nMovie 209 Horror Summary for\\nMovie 209\\n4.0 2009\\nMovie 210 Sci-Fi Summary for\\nMovie 210\\n3.0 2010\\nMovie 211 Action Summary for\\nMovie 211\\n3.5 2011\\nMovie 212 Comedy Summary for\\nMovie 212\\n4.0 2012\\nMovie 213 Drama Summary for\\nMovie 213\\n3.0 2013\\nMovie 214 Horror Summary for\\nMovie 214\\n3.5 2014\\nMovie 215 Sci-Fi Summary for\\nMovie 215\\n4.0 2015\\nMovie 216 Action Summary for\\nMovie 216\\n3.0 2016\\nMovie 217 Comedy Summary for\\nMovie 217\\n3.5 2017\\nMovie 218 Drama Summary for\\nMovie 218\\n4.0 2018\\nMovie 219 Horror Summary for\\nMovie 219\\n3.0 2019\\nMovie 220 Sci-Fi Summary for\\nMovie 220\\n3.5 2000\\nMovie 221 Action Summary for\\nMovie 221\\n4.0 2001\\nMovie 222 Comedy Summary for\\nMovie 222\\n3.0 2002\\nMovie 223 Drama Summary for\\nMovie 223\\n3.5 2003\\nMovie 224 Horror Summary for\\nMovie 224\\n4.0 2004\\nMovie 225 Sci-Fi Summary for\\nMovie 225\\n3.0 2005\\nMovie 226 Action Summary for\\nMovie 226\\n3.5 2006\\nMovie 227 Comedy Summary for\\nMovie 227\\n4.0 2007\\nMovie 228 Drama Summary for\\nMovie 228\\n3.0 2008\\nMovie 229 Horror Summary for\\nMovie 229\\n3.5 2009\\nMovie 230 Sci-Fi Summary for\\nMovie 230\\n4.0 2010\\nMovie 231 Action Summary for\\nMovie 231\\n3.0 2011\\nMovie 232 Comedy Summary for\\nMovie 232\\n3.5 2012\\nMovie 233 Drama Summary for\\nMovie 233\\n4.0 2013'),\n",
              " Document(metadata={'source': '/content/movie_recommendation.pdf', 'page': 9}, page_content='Movie 234 Horror Summary for\\nMovie 234\\n3.0 2014\\nMovie 235 Sci-Fi Summary for\\nMovie 235\\n3.5 2015\\nMovie 236 Action Summary for\\nMovie 236\\n4.0 2016\\nMovie 237 Comedy Summary for\\nMovie 237\\n3.0 2017\\nMovie 238 Drama Summary for\\nMovie 238\\n3.5 2018\\nMovie 239 Horror Summary for\\nMovie 239\\n4.0 2019\\nMovie 240 Sci-Fi Summary for\\nMovie 240\\n3.0 2000\\nMovie 241 Action Summary for\\nMovie 241\\n3.5 2001\\nMovie 242 Comedy Summary for\\nMovie 242\\n4.0 2002\\nMovie 243 Drama Summary for\\nMovie 243\\n3.0 2003\\nMovie 244 Horror Summary for\\nMovie 244\\n3.5 2004\\nMovie 245 Sci-Fi Summary for\\nMovie 245\\n4.0 2005\\nMovie 246 Action Summary for\\nMovie 246\\n3.0 2006\\nMovie 247 Comedy Summary for\\nMovie 247\\n3.5 2007\\nMovie 248 Drama Summary for\\nMovie 248\\n4.0 2008\\nMovie 249 Horror Summary for\\nMovie 249\\n3.0 2009\\nMovie 250 Sci-Fi Summary for\\nMovie 250\\n3.5 2010\\nMovie 251 Action Summary for\\nMovie 251\\n4.0 2011\\nMovie 252 Comedy Summary for\\nMovie 252\\n3.0 2012\\nMovie 253 Drama Summary for\\nMovie 253\\n3.5 2013\\nMovie 254 Horror Summary for\\nMovie 254\\n4.0 2014\\nMovie 255 Sci-Fi Summary for\\nMovie 255\\n3.0 2015\\nMovie 256 Action Summary for\\nMovie 256\\n3.5 2016\\nMovie 257 Comedy Summary for\\nMovie 257\\n4.0 2017\\nMovie 258 Drama Summary for\\nMovie 258\\n3.0 2018\\nMovie 259 Horror Summary for\\nMovie 259\\n3.5 2019'),\n",
              " Document(metadata={'source': '/content/movie_recommendation.pdf', 'page': 10}, page_content='Movie 260 Sci-Fi Summary for\\nMovie 260\\n4.0 2000\\nMovie 261 Action Summary for\\nMovie 261\\n3.0 2001\\nMovie 262 Comedy Summary for\\nMovie 262\\n3.5 2002\\nMovie 263 Drama Summary for\\nMovie 263\\n4.0 2003\\nMovie 264 Horror Summary for\\nMovie 264\\n3.0 2004\\nMovie 265 Sci-Fi Summary for\\nMovie 265\\n3.5 2005\\nMovie 266 Action Summary for\\nMovie 266\\n4.0 2006\\nMovie 267 Comedy Summary for\\nMovie 267\\n3.0 2007\\nMovie 268 Drama Summary for\\nMovie 268\\n3.5 2008\\nMovie 269 Horror Summary for\\nMovie 269\\n4.0 2009\\nMovie 270 Sci-Fi Summary for\\nMovie 270\\n3.0 2010\\nMovie 271 Action Summary for\\nMovie 271\\n3.5 2011\\nMovie 272 Comedy Summary for\\nMovie 272\\n4.0 2012\\nMovie 273 Drama Summary for\\nMovie 273\\n3.0 2013\\nMovie 274 Horror Summary for\\nMovie 274\\n3.5 2014\\nMovie 275 Sci-Fi Summary for\\nMovie 275\\n4.0 2015\\nMovie 276 Action Summary for\\nMovie 276\\n3.0 2016\\nMovie 277 Comedy Summary for\\nMovie 277\\n3.5 2017\\nMovie 278 Drama Summary for\\nMovie 278\\n4.0 2018\\nMovie 279 Horror Summary for\\nMovie 279\\n3.0 2019\\nMovie 280 Sci-Fi Summary for\\nMovie 280\\n3.5 2000\\nMovie 281 Action Summary for\\nMovie 281\\n4.0 2001\\nMovie 282 Comedy Summary for\\nMovie 282\\n3.0 2002\\nMovie 283 Drama Summary for\\nMovie 283\\n3.5 2003\\nMovie 284 Horror Summary for\\nMovie 284\\n4.0 2004\\nMovie 285 Sci-Fi Summary for\\nMovie 285\\n3.0 2005'),\n",
              " Document(metadata={'source': '/content/movie_recommendation.pdf', 'page': 11}, page_content='Movie 286 Action Summary for\\nMovie 286\\n3.5 2006\\nMovie 287 Comedy Summary for\\nMovie 287\\n4.0 2007\\nMovie 288 Drama Summary for\\nMovie 288\\n3.0 2008\\nMovie 289 Horror Summary for\\nMovie 289\\n3.5 2009\\nMovie 290 Sci-Fi Summary for\\nMovie 290\\n4.0 2010\\nMovie 291 Action Summary for\\nMovie 291\\n3.0 2011\\nMovie 292 Comedy Summary for\\nMovie 292\\n3.5 2012\\nMovie 293 Drama Summary for\\nMovie 293\\n4.0 2013\\nMovie 294 Horror Summary for\\nMovie 294\\n3.0 2014\\nMovie 295 Sci-Fi Summary for\\nMovie 295\\n3.5 2015\\nMovie 296 Action Summary for\\nMovie 296\\n4.0 2016\\nMovie 297 Comedy Summary for\\nMovie 297\\n3.0 2017\\nMovie 298 Drama Summary for\\nMovie 298\\n3.5 2018\\nMovie 299 Horror Summary for\\nMovie 299\\n4.0 2019\\nMovie 300 Sci-Fi Summary for\\nMovie 300\\n3.0 2000\\nMovie 301 Action Summary for\\nMovie 301\\n3.5 2001\\nMovie 302 Comedy Summary for\\nMovie 302\\n4.0 2002\\nMovie 303 Drama Summary for\\nMovie 303\\n3.0 2003\\nMovie 304 Horror Summary for\\nMovie 304\\n3.5 2004\\nMovie 305 Sci-Fi Summary for\\nMovie 305\\n4.0 2005\\nMovie 306 Action Summary for\\nMovie 306\\n3.0 2006\\nMovie 307 Comedy Summary for\\nMovie 307\\n3.5 2007\\nMovie 308 Drama Summary for\\nMovie 308\\n4.0 2008\\nMovie 309 Horror Summary for\\nMovie 309\\n3.0 2009\\nMovie 310 Sci-Fi Summary for\\nMovie 310\\n3.5 2010\\nMovie 311 Action Summary for\\nMovie 311\\n4.0 2011'),\n",
              " Document(metadata={'source': '/content/movie_recommendation.pdf', 'page': 12}, page_content='Movie 312 Comedy Summary for\\nMovie 312\\n3.0 2012\\nMovie 313 Drama Summary for\\nMovie 313\\n3.5 2013\\nMovie 314 Horror Summary for\\nMovie 314\\n4.0 2014\\nMovie 315 Sci-Fi Summary for\\nMovie 315\\n3.0 2015\\nMovie 316 Action Summary for\\nMovie 316\\n3.5 2016\\nMovie 317 Comedy Summary for\\nMovie 317\\n4.0 2017\\nMovie 318 Drama Summary for\\nMovie 318\\n3.0 2018\\nMovie 319 Horror Summary for\\nMovie 319\\n3.5 2019\\nMovie 320 Sci-Fi Summary for\\nMovie 320\\n4.0 2000\\nMovie 321 Action Summary for\\nMovie 321\\n3.0 2001\\nMovie 322 Comedy Summary for\\nMovie 322\\n3.5 2002\\nMovie 323 Drama Summary for\\nMovie 323\\n4.0 2003\\nMovie 324 Horror Summary for\\nMovie 324\\n3.0 2004\\nMovie 325 Sci-Fi Summary for\\nMovie 325\\n3.5 2005\\nMovie 326 Action Summary for\\nMovie 326\\n4.0 2006\\nMovie 327 Comedy Summary for\\nMovie 327\\n3.0 2007\\nMovie 328 Drama Summary for\\nMovie 328\\n3.5 2008\\nMovie 329 Horror Summary for\\nMovie 329\\n4.0 2009\\nMovie 330 Sci-Fi Summary for\\nMovie 330\\n3.0 2010\\nMovie 331 Action Summary for\\nMovie 331\\n3.5 2011\\nMovie 332 Comedy Summary for\\nMovie 332\\n4.0 2012\\nMovie 333 Drama Summary for\\nMovie 333\\n3.0 2013\\nMovie 334 Horror Summary for\\nMovie 334\\n3.5 2014\\nMovie 335 Sci-Fi Summary for\\nMovie 335\\n4.0 2015\\nMovie 336 Action Summary for\\nMovie 336\\n3.0 2016\\nMovie 337 Comedy Summary for\\nMovie 337\\n3.5 2017'),\n",
              " Document(metadata={'source': '/content/movie_recommendation.pdf', 'page': 13}, page_content='Movie 338 Drama Summary for\\nMovie 338\\n4.0 2018\\nMovie 339 Horror Summary for\\nMovie 339\\n3.0 2019\\nMovie 340 Sci-Fi Summary for\\nMovie 340\\n3.5 2000\\nMovie 341 Action Summary for\\nMovie 341\\n4.0 2001\\nMovie 342 Comedy Summary for\\nMovie 342\\n3.0 2002\\nMovie 343 Drama Summary for\\nMovie 343\\n3.5 2003\\nMovie 344 Horror Summary for\\nMovie 344\\n4.0 2004\\nMovie 345 Sci-Fi Summary for\\nMovie 345\\n3.0 2005\\nMovie 346 Action Summary for\\nMovie 346\\n3.5 2006\\nMovie 347 Comedy Summary for\\nMovie 347\\n4.0 2007\\nMovie 348 Drama Summary for\\nMovie 348\\n3.0 2008\\nMovie 349 Horror Summary for\\nMovie 349\\n3.5 2009\\nMovie 350 Sci-Fi Summary for\\nMovie 350\\n4.0 2010\\nMovie 351 Action Summary for\\nMovie 351\\n3.0 2011\\nMovie 352 Comedy Summary for\\nMovie 352\\n3.5 2012\\nMovie 353 Drama Summary for\\nMovie 353\\n4.0 2013\\nMovie 354 Horror Summary for\\nMovie 354\\n3.0 2014\\nMovie 355 Sci-Fi Summary for\\nMovie 355\\n3.5 2015\\nMovie 356 Action Summary for\\nMovie 356\\n4.0 2016\\nMovie 357 Comedy Summary for\\nMovie 357\\n3.0 2017\\nMovie 358 Drama Summary for\\nMovie 358\\n3.5 2018\\nMovie 359 Horror Summary for\\nMovie 359\\n4.0 2019\\nMovie 360 Sci-Fi Summary for\\nMovie 360\\n3.0 2000\\nMovie 361 Action Summary for\\nMovie 361\\n3.5 2001\\nMovie 362 Comedy Summary for\\nMovie 362\\n4.0 2002\\nMovie 363 Drama Summary for\\nMovie 363\\n3.0 2003'),\n",
              " Document(metadata={'source': '/content/movie_recommendation.pdf', 'page': 14}, page_content='Movie 364 Horror Summary for\\nMovie 364\\n3.5 2004\\nMovie 365 Sci-Fi Summary for\\nMovie 365\\n4.0 2005\\nMovie 366 Action Summary for\\nMovie 366\\n3.0 2006\\nMovie 367 Comedy Summary for\\nMovie 367\\n3.5 2007\\nMovie 368 Drama Summary for\\nMovie 368\\n4.0 2008\\nMovie 369 Horror Summary for\\nMovie 369\\n3.0 2009\\nMovie 370 Sci-Fi Summary for\\nMovie 370\\n3.5 2010\\nMovie 371 Action Summary for\\nMovie 371\\n4.0 2011\\nMovie 372 Comedy Summary for\\nMovie 372\\n3.0 2012\\nMovie 373 Drama Summary for\\nMovie 373\\n3.5 2013\\nMovie 374 Horror Summary for\\nMovie 374\\n4.0 2014\\nMovie 375 Sci-Fi Summary for\\nMovie 375\\n3.0 2015\\nMovie 376 Action Summary for\\nMovie 376\\n3.5 2016\\nMovie 377 Comedy Summary for\\nMovie 377\\n4.0 2017\\nMovie 378 Drama Summary for\\nMovie 378\\n3.0 2018\\nMovie 379 Horror Summary for\\nMovie 379\\n3.5 2019\\nMovie 380 Sci-Fi Summary for\\nMovie 380\\n4.0 2000\\nMovie 381 Action Summary for\\nMovie 381\\n3.0 2001\\nMovie 382 Comedy Summary for\\nMovie 382\\n3.5 2002\\nMovie 383 Drama Summary for\\nMovie 383\\n4.0 2003\\nMovie 384 Horror Summary for\\nMovie 384\\n3.0 2004\\nMovie 385 Sci-Fi Summary for\\nMovie 385\\n3.5 2005\\nMovie 386 Action Summary for\\nMovie 386\\n4.0 2006\\nMovie 387 Comedy Summary for\\nMovie 387\\n3.0 2007\\nMovie 388 Drama Summary for\\nMovie 388\\n3.5 2008\\nMovie 389 Horror Summary for\\nMovie 389\\n4.0 2009'),\n",
              " Document(metadata={'source': '/content/movie_recommendation.pdf', 'page': 15}, page_content='Movie 390 Sci-Fi Summary for\\nMovie 390\\n3.0 2010\\nMovie 391 Action Summary for\\nMovie 391\\n3.5 2011\\nMovie 392 Comedy Summary for\\nMovie 392\\n4.0 2012\\nMovie 393 Drama Summary for\\nMovie 393\\n3.0 2013\\nMovie 394 Horror Summary for\\nMovie 394\\n3.5 2014\\nMovie 395 Sci-Fi Summary for\\nMovie 395\\n4.0 2015\\nMovie 396 Action Summary for\\nMovie 396\\n3.0 2016\\nMovie 397 Comedy Summary for\\nMovie 397\\n3.5 2017\\nMovie 398 Drama Summary for\\nMovie 398\\n4.0 2018\\nMovie 399 Horror Summary for\\nMovie 399\\n3.0 2019\\nMovie 400 Sci-Fi Summary for\\nMovie 400\\n3.5 2000\\nMovie 401 Action Summary for\\nMovie 401\\n4.0 2001\\nMovie 402 Comedy Summary for\\nMovie 402\\n3.0 2002\\nMovie 403 Drama Summary for\\nMovie 403\\n3.5 2003\\nMovie 404 Horror Summary for\\nMovie 404\\n4.0 2004\\nMovie 405 Sci-Fi Summary for\\nMovie 405\\n3.0 2005\\nMovie 406 Action Summary for\\nMovie 406\\n3.5 2006\\nMovie 407 Comedy Summary for\\nMovie 407\\n4.0 2007\\nMovie 408 Drama Summary for\\nMovie 408\\n3.0 2008\\nMovie 409 Horror Summary for\\nMovie 409\\n3.5 2009\\nMovie 410 Sci-Fi Summary for\\nMovie 410\\n4.0 2010\\nMovie 411 Action Summary for\\nMovie 411\\n3.0 2011\\nMovie 412 Comedy Summary for\\nMovie 412\\n3.5 2012\\nMovie 413 Drama Summary for\\nMovie 413\\n4.0 2013\\nMovie 414 Horror Summary for\\nMovie 414\\n3.0 2014\\nMovie 415 Sci-Fi Summary for\\nMovie 415\\n3.5 2015'),\n",
              " Document(metadata={'source': '/content/movie_recommendation.pdf', 'page': 16}, page_content='Movie 416 Action Summary for\\nMovie 416\\n4.0 2016\\nMovie 417 Comedy Summary for\\nMovie 417\\n3.0 2017\\nMovie 418 Drama Summary for\\nMovie 418\\n3.5 2018\\nMovie 419 Horror Summary for\\nMovie 419\\n4.0 2019\\nMovie 420 Sci-Fi Summary for\\nMovie 420\\n3.0 2000\\nMovie 421 Action Summary for\\nMovie 421\\n3.5 2001\\nMovie 422 Comedy Summary for\\nMovie 422\\n4.0 2002\\nMovie 423 Drama Summary for\\nMovie 423\\n3.0 2003\\nMovie 424 Horror Summary for\\nMovie 424\\n3.5 2004\\nMovie 425 Sci-Fi Summary for\\nMovie 425\\n4.0 2005\\nMovie 426 Action Summary for\\nMovie 426\\n3.0 2006\\nMovie 427 Comedy Summary for\\nMovie 427\\n3.5 2007\\nMovie 428 Drama Summary for\\nMovie 428\\n4.0 2008\\nMovie 429 Horror Summary for\\nMovie 429\\n3.0 2009\\nMovie 430 Sci-Fi Summary for\\nMovie 430\\n3.5 2010\\nMovie 431 Action Summary for\\nMovie 431\\n4.0 2011\\nMovie 432 Comedy Summary for\\nMovie 432\\n3.0 2012\\nMovie 433 Drama Summary for\\nMovie 433\\n3.5 2013\\nMovie 434 Horror Summary for\\nMovie 434\\n4.0 2014\\nMovie 435 Sci-Fi Summary for\\nMovie 435\\n3.0 2015\\nMovie 436 Action Summary for\\nMovie 436\\n3.5 2016\\nMovie 437 Comedy Summary for\\nMovie 437\\n4.0 2017\\nMovie 438 Drama Summary for\\nMovie 438\\n3.0 2018\\nMovie 439 Horror Summary for\\nMovie 439\\n3.5 2019\\nMovie 440 Sci-Fi Summary for\\nMovie 440\\n4.0 2000\\nMovie 441 Action Summary for\\nMovie 441\\n3.0 2001'),\n",
              " Document(metadata={'source': '/content/movie_recommendation.pdf', 'page': 17}, page_content='Movie 442 Comedy Summary for\\nMovie 442\\n3.5 2002\\nMovie 443 Drama Summary for\\nMovie 443\\n4.0 2003\\nMovie 444 Horror Summary for\\nMovie 444\\n3.0 2004\\nMovie 445 Sci-Fi Summary for\\nMovie 445\\n3.5 2005\\nMovie 446 Action Summary for\\nMovie 446\\n4.0 2006\\nMovie 447 Comedy Summary for\\nMovie 447\\n3.0 2007\\nMovie 448 Drama Summary for\\nMovie 448\\n3.5 2008\\nMovie 449 Horror Summary for\\nMovie 449\\n4.0 2009\\nMovie 450 Sci-Fi Summary for\\nMovie 450\\n3.0 2010\\nMovie 451 Action Summary for\\nMovie 451\\n3.5 2011\\nMovie 452 Comedy Summary for\\nMovie 452\\n4.0 2012\\nMovie 453 Drama Summary for\\nMovie 453\\n3.0 2013\\nMovie 454 Horror Summary for\\nMovie 454\\n3.5 2014\\nMovie 455 Sci-Fi Summary for\\nMovie 455\\n4.0 2015\\nMovie 456 Action Summary for\\nMovie 456\\n3.0 2016\\nMovie 457 Comedy Summary for\\nMovie 457\\n3.5 2017\\nMovie 458 Drama Summary for\\nMovie 458\\n4.0 2018\\nMovie 459 Horror Summary for\\nMovie 459\\n3.0 2019\\nMovie 460 Sci-Fi Summary for\\nMovie 460\\n3.5 2000\\nMovie 461 Action Summary for\\nMovie 461\\n4.0 2001\\nMovie 462 Comedy Summary for\\nMovie 462\\n3.0 2002\\nMovie 463 Drama Summary for\\nMovie 463\\n3.5 2003\\nMovie 464 Horror Summary for\\nMovie 464\\n4.0 2004\\nMovie 465 Sci-Fi Summary for\\nMovie 465\\n3.0 2005\\nMovie 466 Action Summary for\\nMovie 466\\n3.5 2006\\nMovie 467 Comedy Summary for\\nMovie 467\\n4.0 2007'),\n",
              " Document(metadata={'source': '/content/movie_recommendation.pdf', 'page': 18}, page_content='Movie 468 Drama Summary for\\nMovie 468\\n3.0 2008\\nMovie 469 Horror Summary for\\nMovie 469\\n3.5 2009\\nMovie 470 Sci-Fi Summary for\\nMovie 470\\n4.0 2010\\nMovie 471 Action Summary for\\nMovie 471\\n3.0 2011\\nMovie 472 Comedy Summary for\\nMovie 472\\n3.5 2012\\nMovie 473 Drama Summary for\\nMovie 473\\n4.0 2013\\nMovie 474 Horror Summary for\\nMovie 474\\n3.0 2014\\nMovie 475 Sci-Fi Summary for\\nMovie 475\\n3.5 2015\\nMovie 476 Action Summary for\\nMovie 476\\n4.0 2016\\nMovie 477 Comedy Summary for\\nMovie 477\\n3.0 2017\\nMovie 478 Drama Summary for\\nMovie 478\\n3.5 2018\\nMovie 479 Horror Summary for\\nMovie 479\\n4.0 2019\\nMovie 480 Sci-Fi Summary for\\nMovie 480\\n3.0 2000\\nMovie 481 Action Summary for\\nMovie 481\\n3.5 2001\\nMovie 482 Comedy Summary for\\nMovie 482\\n4.0 2002\\nMovie 483 Drama Summary for\\nMovie 483\\n3.0 2003\\nMovie 484 Horror Summary for\\nMovie 484\\n3.5 2004\\nMovie 485 Sci-Fi Summary for\\nMovie 485\\n4.0 2005\\nMovie 486 Action Summary for\\nMovie 486\\n3.0 2006\\nMovie 487 Comedy Summary for\\nMovie 487\\n3.5 2007\\nMovie 488 Drama Summary for\\nMovie 488\\n4.0 2008\\nMovie 489 Horror Summary for\\nMovie 489\\n3.0 2009\\nMovie 490 Sci-Fi Summary for\\nMovie 490\\n3.5 2010\\nMovie 491 Action Summary for\\nMovie 491\\n4.0 2011\\nMovie 492 Comedy Summary for\\nMovie 492\\n3.0 2012\\nMovie 493 Drama Summary for\\nMovie 493\\n3.5 2013'),\n",
              " Document(metadata={'source': '/content/movie_recommendation.pdf', 'page': 19}, page_content='Movie 494 Horror Summary for\\nMovie 494\\n4.0 2014\\nMovie 495 Sci-Fi Summary for\\nMovie 495\\n3.0 2015\\nMovie 496 Action Summary for\\nMovie 496\\n3.5 2016\\nMovie 497 Comedy Summary for\\nMovie 497\\n4.0 2017\\nMovie 498 Drama Summary for\\nMovie 498\\n3.0 2018\\nMovie 499 Horror Summary for\\nMovie 499\\n3.5 2019\\nMovie 500 Sci-Fi Summary for\\nMovie 500\\n4.0 2000\\nMovie 501 Action Summary for\\nMovie 501\\n3.0 2001\\nMovie 502 Comedy Summary for\\nMovie 502\\n3.5 2002\\nMovie 503 Drama Summary for\\nMovie 503\\n4.0 2003\\nMovie 504 Horror Summary for\\nMovie 504\\n3.0 2004\\nMovie 505 Sci-Fi Summary for\\nMovie 505\\n3.5 2005\\nMovie 506 Action Summary for\\nMovie 506\\n4.0 2006\\nMovie 507 Comedy Summary for\\nMovie 507\\n3.0 2007\\nMovie 508 Drama Summary for\\nMovie 508\\n3.5 2008\\nMovie 509 Horror Summary for\\nMovie 509\\n4.0 2009\\nMovie 510 Sci-Fi Summary for\\nMovie 510\\n3.0 2010\\nMovie 511 Action Summary for\\nMovie 511\\n3.5 2011\\nMovie 512 Comedy Summary for\\nMovie 512\\n4.0 2012\\nMovie 513 Drama Summary for\\nMovie 513\\n3.0 2013\\nMovie 514 Horror Summary for\\nMovie 514\\n3.5 2014\\nMovie 515 Sci-Fi Summary for\\nMovie 515\\n4.0 2015\\nMovie 516 Action Summary for\\nMovie 516\\n3.0 2016\\nMovie 517 Comedy Summary for\\nMovie 517\\n3.5 2017\\nMovie 518 Drama Summary for\\nMovie 518\\n4.0 2018\\nMovie 519 Horror Summary for\\nMovie 519\\n3.0 2019'),\n",
              " Document(metadata={'source': '/content/movie_recommendation.pdf', 'page': 20}, page_content='Movie 520 Sci-Fi Summary for\\nMovie 520\\n3.5 2000\\nMovie 521 Action Summary for\\nMovie 521\\n4.0 2001\\nMovie 522 Comedy Summary for\\nMovie 522\\n3.0 2002\\nMovie 523 Drama Summary for\\nMovie 523\\n3.5 2003\\nMovie 524 Horror Summary for\\nMovie 524\\n4.0 2004\\nMovie 525 Sci-Fi Summary for\\nMovie 525\\n3.0 2005\\nMovie 526 Action Summary for\\nMovie 526\\n3.5 2006\\nMovie 527 Comedy Summary for\\nMovie 527\\n4.0 2007\\nMovie 528 Drama Summary for\\nMovie 528\\n3.0 2008\\nMovie 529 Horror Summary for\\nMovie 529\\n3.5 2009\\nMovie 530 Sci-Fi Summary for\\nMovie 530\\n4.0 2010\\nMovie 531 Action Summary for\\nMovie 531\\n3.0 2011\\nMovie 532 Comedy Summary for\\nMovie 532\\n3.5 2012\\nMovie 533 Drama Summary for\\nMovie 533\\n4.0 2013\\nMovie 534 Horror Summary for\\nMovie 534\\n3.0 2014\\nMovie 535 Sci-Fi Summary for\\nMovie 535\\n3.5 2015\\nMovie 536 Action Summary for\\nMovie 536\\n4.0 2016\\nMovie 537 Comedy Summary for\\nMovie 537\\n3.0 2017\\nMovie 538 Drama Summary for\\nMovie 538\\n3.5 2018\\nMovie 539 Horror Summary for\\nMovie 539\\n4.0 2019\\nMovie 540 Sci-Fi Summary for\\nMovie 540\\n3.0 2000\\nMovie 541 Action Summary for\\nMovie 541\\n3.5 2001\\nMovie 542 Comedy Summary for\\nMovie 542\\n4.0 2002\\nMovie 543 Drama Summary for\\nMovie 543\\n3.0 2003\\nMovie 544 Horror Summary for\\nMovie 544\\n3.5 2004\\nMovie 545 Sci-Fi Summary for\\nMovie 545\\n4.0 2005'),\n",
              " Document(metadata={'source': '/content/movie_recommendation.pdf', 'page': 21}, page_content='Movie 546 Action Summary for\\nMovie 546\\n3.0 2006\\nMovie 547 Comedy Summary for\\nMovie 547\\n3.5 2007\\nMovie 548 Drama Summary for\\nMovie 548\\n4.0 2008\\nMovie 549 Horror Summary for\\nMovie 549\\n3.0 2009\\nMovie 550 Sci-Fi Summary for\\nMovie 550\\n3.5 2010\\nMovie 551 Action Summary for\\nMovie 551\\n4.0 2011\\nMovie 552 Comedy Summary for\\nMovie 552\\n3.0 2012\\nMovie 553 Drama Summary for\\nMovie 553\\n3.5 2013\\nMovie 554 Horror Summary for\\nMovie 554\\n4.0 2014\\nMovie 555 Sci-Fi Summary for\\nMovie 555\\n3.0 2015\\nMovie 556 Action Summary for\\nMovie 556\\n3.5 2016\\nMovie 557 Comedy Summary for\\nMovie 557\\n4.0 2017\\nMovie 558 Drama Summary for\\nMovie 558\\n3.0 2018\\nMovie 559 Horror Summary for\\nMovie 559\\n3.5 2019\\nMovie 560 Sci-Fi Summary for\\nMovie 560\\n4.0 2000\\nMovie 561 Action Summary for\\nMovie 561\\n3.0 2001\\nMovie 562 Comedy Summary for\\nMovie 562\\n3.5 2002\\nMovie 563 Drama Summary for\\nMovie 563\\n4.0 2003\\nMovie 564 Horror Summary for\\nMovie 564\\n3.0 2004\\nMovie 565 Sci-Fi Summary for\\nMovie 565\\n3.5 2005\\nMovie 566 Action Summary for\\nMovie 566\\n4.0 2006\\nMovie 567 Comedy Summary for\\nMovie 567\\n3.0 2007\\nMovie 568 Drama Summary for\\nMovie 568\\n3.5 2008\\nMovie 569 Horror Summary for\\nMovie 569\\n4.0 2009\\nMovie 570 Sci-Fi Summary for\\nMovie 570\\n3.0 2010\\nMovie 571 Action Summary for\\nMovie 571\\n3.5 2011'),\n",
              " Document(metadata={'source': '/content/movie_recommendation.pdf', 'page': 22}, page_content='Movie 572 Comedy Summary for\\nMovie 572\\n4.0 2012\\nMovie 573 Drama Summary for\\nMovie 573\\n3.0 2013\\nMovie 574 Horror Summary for\\nMovie 574\\n3.5 2014\\nMovie 575 Sci-Fi Summary for\\nMovie 575\\n4.0 2015\\nMovie 576 Action Summary for\\nMovie 576\\n3.0 2016\\nMovie 577 Comedy Summary for\\nMovie 577\\n3.5 2017\\nMovie 578 Drama Summary for\\nMovie 578\\n4.0 2018\\nMovie 579 Horror Summary for\\nMovie 579\\n3.0 2019\\nMovie 580 Sci-Fi Summary for\\nMovie 580\\n3.5 2000\\nMovie 581 Action Summary for\\nMovie 581\\n4.0 2001\\nMovie 582 Comedy Summary for\\nMovie 582\\n3.0 2002\\nMovie 583 Drama Summary for\\nMovie 583\\n3.5 2003\\nMovie 584 Horror Summary for\\nMovie 584\\n4.0 2004\\nMovie 585 Sci-Fi Summary for\\nMovie 585\\n3.0 2005\\nMovie 586 Action Summary for\\nMovie 586\\n3.5 2006\\nMovie 587 Comedy Summary for\\nMovie 587\\n4.0 2007\\nMovie 588 Drama Summary for\\nMovie 588\\n3.0 2008\\nMovie 589 Horror Summary for\\nMovie 589\\n3.5 2009\\nMovie 590 Sci-Fi Summary for\\nMovie 590\\n4.0 2010\\nMovie 591 Action Summary for\\nMovie 591\\n3.0 2011\\nMovie 592 Comedy Summary for\\nMovie 592\\n3.5 2012\\nMovie 593 Drama Summary for\\nMovie 593\\n4.0 2013\\nMovie 594 Horror Summary for\\nMovie 594\\n3.0 2014\\nMovie 595 Sci-Fi Summary for\\nMovie 595\\n3.5 2015\\nMovie 596 Action Summary for\\nMovie 596\\n4.0 2016\\nMovie 597 Comedy Summary for\\nMovie 597\\n3.0 2017'),\n",
              " Document(metadata={'source': '/content/movie_recommendation.pdf', 'page': 23}, page_content='Movie 598 Drama Summary for\\nMovie 598\\n3.5 2018\\nMovie 599 Horror Summary for\\nMovie 599\\n4.0 2019\\nMovie 600 Sci-Fi Summary for\\nMovie 600\\n3.0 2000\\nMovie 601 Action Summary for\\nMovie 601\\n3.5 2001\\nMovie 602 Comedy Summary for\\nMovie 602\\n4.0 2002\\nMovie 603 Drama Summary for\\nMovie 603\\n3.0 2003\\nMovie 604 Horror Summary for\\nMovie 604\\n3.5 2004\\nMovie 605 Sci-Fi Summary for\\nMovie 605\\n4.0 2005\\nMovie 606 Action Summary for\\nMovie 606\\n3.0 2006\\nMovie 607 Comedy Summary for\\nMovie 607\\n3.5 2007\\nMovie 608 Drama Summary for\\nMovie 608\\n4.0 2008\\nMovie 609 Horror Summary for\\nMovie 609\\n3.0 2009\\nMovie 610 Sci-Fi Summary for\\nMovie 610\\n3.5 2010\\nMovie 611 Action Summary for\\nMovie 611\\n4.0 2011\\nMovie 612 Comedy Summary for\\nMovie 612\\n3.0 2012\\nMovie 613 Drama Summary for\\nMovie 613\\n3.5 2013\\nMovie 614 Horror Summary for\\nMovie 614\\n4.0 2014\\nMovie 615 Sci-Fi Summary for\\nMovie 615\\n3.0 2015\\nMovie 616 Action Summary for\\nMovie 616\\n3.5 2016\\nMovie 617 Comedy Summary for\\nMovie 617\\n4.0 2017\\nMovie 618 Drama Summary for\\nMovie 618\\n3.0 2018\\nMovie 619 Horror Summary for\\nMovie 619\\n3.5 2019\\nMovie 620 Sci-Fi Summary for\\nMovie 620\\n4.0 2000\\nMovie 621 Action Summary for\\nMovie 621\\n3.0 2001\\nMovie 622 Comedy Summary for\\nMovie 622\\n3.5 2002\\nMovie 623 Drama Summary for\\nMovie 623\\n4.0 2003'),\n",
              " Document(metadata={'source': '/content/movie_recommendation.pdf', 'page': 24}, page_content='Movie 624 Horror Summary for\\nMovie 624\\n3.0 2004\\nMovie 625 Sci-Fi Summary for\\nMovie 625\\n3.5 2005\\nMovie 626 Action Summary for\\nMovie 626\\n4.0 2006\\nMovie 627 Comedy Summary for\\nMovie 627\\n3.0 2007\\nMovie 628 Drama Summary for\\nMovie 628\\n3.5 2008\\nMovie 629 Horror Summary for\\nMovie 629\\n4.0 2009\\nMovie 630 Sci-Fi Summary for\\nMovie 630\\n3.0 2010\\nMovie 631 Action Summary for\\nMovie 631\\n3.5 2011\\nMovie 632 Comedy Summary for\\nMovie 632\\n4.0 2012\\nMovie 633 Drama Summary for\\nMovie 633\\n3.0 2013\\nMovie 634 Horror Summary for\\nMovie 634\\n3.5 2014\\nMovie 635 Sci-Fi Summary for\\nMovie 635\\n4.0 2015\\nMovie 636 Action Summary for\\nMovie 636\\n3.0 2016\\nMovie 637 Comedy Summary for\\nMovie 637\\n3.5 2017\\nMovie 638 Drama Summary for\\nMovie 638\\n4.0 2018\\nMovie 639 Horror Summary for\\nMovie 639\\n3.0 2019\\nMovie 640 Sci-Fi Summary for\\nMovie 640\\n3.5 2000\\nMovie 641 Action Summary for\\nMovie 641\\n4.0 2001\\nMovie 642 Comedy Summary for\\nMovie 642\\n3.0 2002\\nMovie 643 Drama Summary for\\nMovie 643\\n3.5 2003\\nMovie 644 Horror Summary for\\nMovie 644\\n4.0 2004\\nMovie 645 Sci-Fi Summary for\\nMovie 645\\n3.0 2005\\nMovie 646 Action Summary for\\nMovie 646\\n3.5 2006\\nMovie 647 Comedy Summary for\\nMovie 647\\n4.0 2007\\nMovie 648 Drama Summary for\\nMovie 648\\n3.0 2008\\nMovie 649 Horror Summary for\\nMovie 649\\n3.5 2009'),\n",
              " Document(metadata={'source': '/content/movie_recommendation.pdf', 'page': 25}, page_content='Movie 650 Sci-Fi Summary for\\nMovie 650\\n4.0 2010\\nMovie 651 Action Summary for\\nMovie 651\\n3.0 2011\\nMovie 652 Comedy Summary for\\nMovie 652\\n3.5 2012\\nMovie 653 Drama Summary for\\nMovie 653\\n4.0 2013\\nMovie 654 Horror Summary for\\nMovie 654\\n3.0 2014\\nMovie 655 Sci-Fi Summary for\\nMovie 655\\n3.5 2015\\nMovie 656 Action Summary for\\nMovie 656\\n4.0 2016\\nMovie 657 Comedy Summary for\\nMovie 657\\n3.0 2017\\nMovie 658 Drama Summary for\\nMovie 658\\n3.5 2018\\nMovie 659 Horror Summary for\\nMovie 659\\n4.0 2019\\nMovie 660 Sci-Fi Summary for\\nMovie 660\\n3.0 2000\\nMovie 661 Action Summary for\\nMovie 661\\n3.5 2001\\nMovie 662 Comedy Summary for\\nMovie 662\\n4.0 2002\\nMovie 663 Drama Summary for\\nMovie 663\\n3.0 2003\\nMovie 664 Horror Summary for\\nMovie 664\\n3.5 2004\\nMovie 665 Sci-Fi Summary for\\nMovie 665\\n4.0 2005\\nMovie 666 Action Summary for\\nMovie 666\\n3.0 2006\\nMovie 667 Comedy Summary for\\nMovie 667\\n3.5 2007\\nMovie 668 Drama Summary for\\nMovie 668\\n4.0 2008\\nMovie 669 Horror Summary for\\nMovie 669\\n3.0 2009\\nMovie 670 Sci-Fi Summary for\\nMovie 670\\n3.5 2010\\nMovie 671 Action Summary for\\nMovie 671\\n4.0 2011\\nMovie 672 Comedy Summary for\\nMovie 672\\n3.0 2012\\nMovie 673 Drama Summary for\\nMovie 673\\n3.5 2013\\nMovie 674 Horror Summary for\\nMovie 674\\n4.0 2014\\nMovie 675 Sci-Fi Summary for\\nMovie 675\\n3.0 2015'),\n",
              " Document(metadata={'source': '/content/movie_recommendation.pdf', 'page': 26}, page_content='Movie 676 Action Summary for\\nMovie 676\\n3.5 2016\\nMovie 677 Comedy Summary for\\nMovie 677\\n4.0 2017\\nMovie 678 Drama Summary for\\nMovie 678\\n3.0 2018\\nMovie 679 Horror Summary for\\nMovie 679\\n3.5 2019\\nMovie 680 Sci-Fi Summary for\\nMovie 680\\n4.0 2000\\nMovie 681 Action Summary for\\nMovie 681\\n3.0 2001\\nMovie 682 Comedy Summary for\\nMovie 682\\n3.5 2002\\nMovie 683 Drama Summary for\\nMovie 683\\n4.0 2003\\nMovie 684 Horror Summary for\\nMovie 684\\n3.0 2004\\nMovie 685 Sci-Fi Summary for\\nMovie 685\\n3.5 2005\\nMovie 686 Action Summary for\\nMovie 686\\n4.0 2006\\nMovie 687 Comedy Summary for\\nMovie 687\\n3.0 2007\\nMovie 688 Drama Summary for\\nMovie 688\\n3.5 2008\\nMovie 689 Horror Summary for\\nMovie 689\\n4.0 2009\\nMovie 690 Sci-Fi Summary for\\nMovie 690\\n3.0 2010\\nMovie 691 Action Summary for\\nMovie 691\\n3.5 2011\\nMovie 692 Comedy Summary for\\nMovie 692\\n4.0 2012\\nMovie 693 Drama Summary for\\nMovie 693\\n3.0 2013\\nMovie 694 Horror Summary for\\nMovie 694\\n3.5 2014\\nMovie 695 Sci-Fi Summary for\\nMovie 695\\n4.0 2015\\nMovie 696 Action Summary for\\nMovie 696\\n3.0 2016\\nMovie 697 Comedy Summary for\\nMovie 697\\n3.5 2017\\nMovie 698 Drama Summary for\\nMovie 698\\n4.0 2018\\nMovie 699 Horror Summary for\\nMovie 699\\n3.0 2019\\nMovie 700 Sci-Fi Summary for\\nMovie 700\\n3.5 2000\\nMovie 701 Action Summary for\\nMovie 701\\n4.0 2001'),\n",
              " Document(metadata={'source': '/content/movie_recommendation.pdf', 'page': 27}, page_content='Movie 702 Comedy Summary for\\nMovie 702\\n3.0 2002\\nMovie 703 Drama Summary for\\nMovie 703\\n3.5 2003\\nMovie 704 Horror Summary for\\nMovie 704\\n4.0 2004\\nMovie 705 Sci-Fi Summary for\\nMovie 705\\n3.0 2005\\nMovie 706 Action Summary for\\nMovie 706\\n3.5 2006\\nMovie 707 Comedy Summary for\\nMovie 707\\n4.0 2007\\nMovie 708 Drama Summary for\\nMovie 708\\n3.0 2008\\nMovie 709 Horror Summary for\\nMovie 709\\n3.5 2009\\nMovie 710 Sci-Fi Summary for\\nMovie 710\\n4.0 2010\\nMovie 711 Action Summary for\\nMovie 711\\n3.0 2011\\nMovie 712 Comedy Summary for\\nMovie 712\\n3.5 2012\\nMovie 713 Drama Summary for\\nMovie 713\\n4.0 2013\\nMovie 714 Horror Summary for\\nMovie 714\\n3.0 2014\\nMovie 715 Sci-Fi Summary for\\nMovie 715\\n3.5 2015\\nMovie 716 Action Summary for\\nMovie 716\\n4.0 2016\\nMovie 717 Comedy Summary for\\nMovie 717\\n3.0 2017\\nMovie 718 Drama Summary for\\nMovie 718\\n3.5 2018\\nMovie 719 Horror Summary for\\nMovie 719\\n4.0 2019\\nMovie 720 Sci-Fi Summary for\\nMovie 720\\n3.0 2000\\nMovie 721 Action Summary for\\nMovie 721\\n3.5 2001\\nMovie 722 Comedy Summary for\\nMovie 722\\n4.0 2002\\nMovie 723 Drama Summary for\\nMovie 723\\n3.0 2003\\nMovie 724 Horror Summary for\\nMovie 724\\n3.5 2004\\nMovie 725 Sci-Fi Summary for\\nMovie 725\\n4.0 2005\\nMovie 726 Action Summary for\\nMovie 726\\n3.0 2006\\nMovie 727 Comedy Summary for\\nMovie 727\\n3.5 2007'),\n",
              " Document(metadata={'source': '/content/movie_recommendation.pdf', 'page': 28}, page_content='Movie 728 Drama Summary for\\nMovie 728\\n4.0 2008\\nMovie 729 Horror Summary for\\nMovie 729\\n3.0 2009\\nMovie 730 Sci-Fi Summary for\\nMovie 730\\n3.5 2010\\nMovie 731 Action Summary for\\nMovie 731\\n4.0 2011\\nMovie 732 Comedy Summary for\\nMovie 732\\n3.0 2012\\nMovie 733 Drama Summary for\\nMovie 733\\n3.5 2013\\nMovie 734 Horror Summary for\\nMovie 734\\n4.0 2014\\nMovie 735 Sci-Fi Summary for\\nMovie 735\\n3.0 2015\\nMovie 736 Action Summary for\\nMovie 736\\n3.5 2016\\nMovie 737 Comedy Summary for\\nMovie 737\\n4.0 2017\\nMovie 738 Drama Summary for\\nMovie 738\\n3.0 2018\\nMovie 739 Horror Summary for\\nMovie 739\\n3.5 2019\\nMovie 740 Sci-Fi Summary for\\nMovie 740\\n4.0 2000\\nMovie 741 Action Summary for\\nMovie 741\\n3.0 2001\\nMovie 742 Comedy Summary for\\nMovie 742\\n3.5 2002\\nMovie 743 Drama Summary for\\nMovie 743\\n4.0 2003\\nMovie 744 Horror Summary for\\nMovie 744\\n3.0 2004\\nMovie 745 Sci-Fi Summary for\\nMovie 745\\n3.5 2005\\nMovie 746 Action Summary for\\nMovie 746\\n4.0 2006\\nMovie 747 Comedy Summary for\\nMovie 747\\n3.0 2007\\nMovie 748 Drama Summary for\\nMovie 748\\n3.5 2008\\nMovie 749 Horror Summary for\\nMovie 749\\n4.0 2009\\nMovie 750 Sci-Fi Summary for\\nMovie 750\\n3.0 2010\\nMovie 751 Action Summary for\\nMovie 751\\n3.5 2011\\nMovie 752 Comedy Summary for\\nMovie 752\\n4.0 2012\\nMovie 753 Drama Summary for\\nMovie 753\\n3.0 2013'),\n",
              " Document(metadata={'source': '/content/movie_recommendation.pdf', 'page': 29}, page_content='Movie 754 Horror Summary for\\nMovie 754\\n3.5 2014\\nMovie 755 Sci-Fi Summary for\\nMovie 755\\n4.0 2015\\nMovie 756 Action Summary for\\nMovie 756\\n3.0 2016\\nMovie 757 Comedy Summary for\\nMovie 757\\n3.5 2017\\nMovie 758 Drama Summary for\\nMovie 758\\n4.0 2018\\nMovie 759 Horror Summary for\\nMovie 759\\n3.0 2019\\nMovie 760 Sci-Fi Summary for\\nMovie 760\\n3.5 2000\\nMovie 761 Action Summary for\\nMovie 761\\n4.0 2001\\nMovie 762 Comedy Summary for\\nMovie 762\\n3.0 2002\\nMovie 763 Drama Summary for\\nMovie 763\\n3.5 2003\\nMovie 764 Horror Summary for\\nMovie 764\\n4.0 2004\\nMovie 765 Sci-Fi Summary for\\nMovie 765\\n3.0 2005\\nMovie 766 Action Summary for\\nMovie 766\\n3.5 2006\\nMovie 767 Comedy Summary for\\nMovie 767\\n4.0 2007\\nMovie 768 Drama Summary for\\nMovie 768\\n3.0 2008\\nMovie 769 Horror Summary for\\nMovie 769\\n3.5 2009\\nMovie 770 Sci-Fi Summary for\\nMovie 770\\n4.0 2010\\nMovie 771 Action Summary for\\nMovie 771\\n3.0 2011\\nMovie 772 Comedy Summary for\\nMovie 772\\n3.5 2012\\nMovie 773 Drama Summary for\\nMovie 773\\n4.0 2013\\nMovie 774 Horror Summary for\\nMovie 774\\n3.0 2014\\nMovie 775 Sci-Fi Summary for\\nMovie 775\\n3.5 2015\\nMovie 776 Action Summary for\\nMovie 776\\n4.0 2016\\nMovie 777 Comedy Summary for\\nMovie 777\\n3.0 2017\\nMovie 778 Drama Summary for\\nMovie 778\\n3.5 2018\\nMovie 779 Horror Summary for\\nMovie 779\\n4.0 2019'),\n",
              " Document(metadata={'source': '/content/movie_recommendation.pdf', 'page': 30}, page_content='Movie 780 Sci-Fi Summary for\\nMovie 780\\n3.0 2000\\nMovie 781 Action Summary for\\nMovie 781\\n3.5 2001\\nMovie 782 Comedy Summary for\\nMovie 782\\n4.0 2002\\nMovie 783 Drama Summary for\\nMovie 783\\n3.0 2003\\nMovie 784 Horror Summary for\\nMovie 784\\n3.5 2004\\nMovie 785 Sci-Fi Summary for\\nMovie 785\\n4.0 2005\\nMovie 786 Action Summary for\\nMovie 786\\n3.0 2006\\nMovie 787 Comedy Summary for\\nMovie 787\\n3.5 2007\\nMovie 788 Drama Summary for\\nMovie 788\\n4.0 2008\\nMovie 789 Horror Summary for\\nMovie 789\\n3.0 2009\\nMovie 790 Sci-Fi Summary for\\nMovie 790\\n3.5 2010\\nMovie 791 Action Summary for\\nMovie 791\\n4.0 2011\\nMovie 792 Comedy Summary for\\nMovie 792\\n3.0 2012\\nMovie 793 Drama Summary for\\nMovie 793\\n3.5 2013\\nMovie 794 Horror Summary for\\nMovie 794\\n4.0 2014\\nMovie 795 Sci-Fi Summary for\\nMovie 795\\n3.0 2015\\nMovie 796 Action Summary for\\nMovie 796\\n3.5 2016\\nMovie 797 Comedy Summary for\\nMovie 797\\n4.0 2017\\nMovie 798 Drama Summary for\\nMovie 798\\n3.0 2018\\nMovie 799 Horror Summary for\\nMovie 799\\n3.5 2019\\nMovie 800 Sci-Fi Summary for\\nMovie 800\\n4.0 2000\\nMovie 801 Action Summary for\\nMovie 801\\n3.0 2001\\nMovie 802 Comedy Summary for\\nMovie 802\\n3.5 2002\\nMovie 803 Drama Summary for\\nMovie 803\\n4.0 2003\\nMovie 804 Horror Summary for\\nMovie 804\\n3.0 2004\\nMovie 805 Sci-Fi Summary for\\nMovie 805\\n3.5 2005'),\n",
              " Document(metadata={'source': '/content/movie_recommendation.pdf', 'page': 31}, page_content='Movie 806 Action Summary for\\nMovie 806\\n4.0 2006\\nMovie 807 Comedy Summary for\\nMovie 807\\n3.0 2007\\nMovie 808 Drama Summary for\\nMovie 808\\n3.5 2008\\nMovie 809 Horror Summary for\\nMovie 809\\n4.0 2009\\nMovie 810 Sci-Fi Summary for\\nMovie 810\\n3.0 2010\\nMovie 811 Action Summary for\\nMovie 811\\n3.5 2011\\nMovie 812 Comedy Summary for\\nMovie 812\\n4.0 2012\\nMovie 813 Drama Summary for\\nMovie 813\\n3.0 2013\\nMovie 814 Horror Summary for\\nMovie 814\\n3.5 2014\\nMovie 815 Sci-Fi Summary for\\nMovie 815\\n4.0 2015\\nMovie 816 Action Summary for\\nMovie 816\\n3.0 2016\\nMovie 817 Comedy Summary for\\nMovie 817\\n3.5 2017\\nMovie 818 Drama Summary for\\nMovie 818\\n4.0 2018\\nMovie 819 Horror Summary for\\nMovie 819\\n3.0 2019\\nMovie 820 Sci-Fi Summary for\\nMovie 820\\n3.5 2000\\nMovie 821 Action Summary for\\nMovie 821\\n4.0 2001\\nMovie 822 Comedy Summary for\\nMovie 822\\n3.0 2002\\nMovie 823 Drama Summary for\\nMovie 823\\n3.5 2003\\nMovie 824 Horror Summary for\\nMovie 824\\n4.0 2004\\nMovie 825 Sci-Fi Summary for\\nMovie 825\\n3.0 2005\\nMovie 826 Action Summary for\\nMovie 826\\n3.5 2006\\nMovie 827 Comedy Summary for\\nMovie 827\\n4.0 2007\\nMovie 828 Drama Summary for\\nMovie 828\\n3.0 2008\\nMovie 829 Horror Summary for\\nMovie 829\\n3.5 2009\\nMovie 830 Sci-Fi Summary for\\nMovie 830\\n4.0 2010\\nMovie 831 Action Summary for\\nMovie 831\\n3.0 2011'),\n",
              " Document(metadata={'source': '/content/movie_recommendation.pdf', 'page': 32}, page_content='Movie 832 Comedy Summary for\\nMovie 832\\n3.5 2012\\nMovie 833 Drama Summary for\\nMovie 833\\n4.0 2013\\nMovie 834 Horror Summary for\\nMovie 834\\n3.0 2014\\nMovie 835 Sci-Fi Summary for\\nMovie 835\\n3.5 2015\\nMovie 836 Action Summary for\\nMovie 836\\n4.0 2016\\nMovie 837 Comedy Summary for\\nMovie 837\\n3.0 2017\\nMovie 838 Drama Summary for\\nMovie 838\\n3.5 2018\\nMovie 839 Horror Summary for\\nMovie 839\\n4.0 2019\\nMovie 840 Sci-Fi Summary for\\nMovie 840\\n3.0 2000\\nMovie 841 Action Summary for\\nMovie 841\\n3.5 2001\\nMovie 842 Comedy Summary for\\nMovie 842\\n4.0 2002\\nMovie 843 Drama Summary for\\nMovie 843\\n3.0 2003\\nMovie 844 Horror Summary for\\nMovie 844\\n3.5 2004\\nMovie 845 Sci-Fi Summary for\\nMovie 845\\n4.0 2005\\nMovie 846 Action Summary for\\nMovie 846\\n3.0 2006\\nMovie 847 Comedy Summary for\\nMovie 847\\n3.5 2007\\nMovie 848 Drama Summary for\\nMovie 848\\n4.0 2008\\nMovie 849 Horror Summary for\\nMovie 849\\n3.0 2009\\nMovie 850 Sci-Fi Summary for\\nMovie 850\\n3.5 2010\\nMovie 851 Action Summary for\\nMovie 851\\n4.0 2011\\nMovie 852 Comedy Summary for\\nMovie 852\\n3.0 2012\\nMovie 853 Drama Summary for\\nMovie 853\\n3.5 2013\\nMovie 854 Horror Summary for\\nMovie 854\\n4.0 2014\\nMovie 855 Sci-Fi Summary for\\nMovie 855\\n3.0 2015\\nMovie 856 Action Summary for\\nMovie 856\\n3.5 2016\\nMovie 857 Comedy Summary for\\nMovie 857\\n4.0 2017'),\n",
              " Document(metadata={'source': '/content/movie_recommendation.pdf', 'page': 33}, page_content='Movie 858 Drama Summary for\\nMovie 858\\n3.0 2018\\nMovie 859 Horror Summary for\\nMovie 859\\n3.5 2019\\nMovie 860 Sci-Fi Summary for\\nMovie 860\\n4.0 2000\\nMovie 861 Action Summary for\\nMovie 861\\n3.0 2001\\nMovie 862 Comedy Summary for\\nMovie 862\\n3.5 2002\\nMovie 863 Drama Summary for\\nMovie 863\\n4.0 2003\\nMovie 864 Horror Summary for\\nMovie 864\\n3.0 2004\\nMovie 865 Sci-Fi Summary for\\nMovie 865\\n3.5 2005\\nMovie 866 Action Summary for\\nMovie 866\\n4.0 2006\\nMovie 867 Comedy Summary for\\nMovie 867\\n3.0 2007\\nMovie 868 Drama Summary for\\nMovie 868\\n3.5 2008\\nMovie 869 Horror Summary for\\nMovie 869\\n4.0 2009\\nMovie 870 Sci-Fi Summary for\\nMovie 870\\n3.0 2010\\nMovie 871 Action Summary for\\nMovie 871\\n3.5 2011\\nMovie 872 Comedy Summary for\\nMovie 872\\n4.0 2012\\nMovie 873 Drama Summary for\\nMovie 873\\n3.0 2013\\nMovie 874 Horror Summary for\\nMovie 874\\n3.5 2014\\nMovie 875 Sci-Fi Summary for\\nMovie 875\\n4.0 2015\\nMovie 876 Action Summary for\\nMovie 876\\n3.0 2016\\nMovie 877 Comedy Summary for\\nMovie 877\\n3.5 2017\\nMovie 878 Drama Summary for\\nMovie 878\\n4.0 2018\\nMovie 879 Horror Summary for\\nMovie 879\\n3.0 2019\\nMovie 880 Sci-Fi Summary for\\nMovie 880\\n3.5 2000\\nMovie 881 Action Summary for\\nMovie 881\\n4.0 2001\\nMovie 882 Comedy Summary for\\nMovie 882\\n3.0 2002\\nMovie 883 Drama Summary for\\nMovie 883\\n3.5 2003'),\n",
              " Document(metadata={'source': '/content/movie_recommendation.pdf', 'page': 34}, page_content='Movie 884 Horror Summary for\\nMovie 884\\n4.0 2004\\nMovie 885 Sci-Fi Summary for\\nMovie 885\\n3.0 2005\\nMovie 886 Action Summary for\\nMovie 886\\n3.5 2006\\nMovie 887 Comedy Summary for\\nMovie 887\\n4.0 2007\\nMovie 888 Drama Summary for\\nMovie 888\\n3.0 2008\\nMovie 889 Horror Summary for\\nMovie 889\\n3.5 2009\\nMovie 890 Sci-Fi Summary for\\nMovie 890\\n4.0 2010\\nMovie 891 Action Summary for\\nMovie 891\\n3.0 2011\\nMovie 892 Comedy Summary for\\nMovie 892\\n3.5 2012\\nMovie 893 Drama Summary for\\nMovie 893\\n4.0 2013\\nMovie 894 Horror Summary for\\nMovie 894\\n3.0 2014\\nMovie 895 Sci-Fi Summary for\\nMovie 895\\n3.5 2015\\nMovie 896 Action Summary for\\nMovie 896\\n4.0 2016\\nMovie 897 Comedy Summary for\\nMovie 897\\n3.0 2017\\nMovie 898 Drama Summary for\\nMovie 898\\n3.5 2018\\nMovie 899 Horror Summary for\\nMovie 899\\n4.0 2019\\nMovie 900 Sci-Fi Summary for\\nMovie 900\\n3.0 2000\\nMovie 901 Action Summary for\\nMovie 901\\n3.5 2001\\nMovie 902 Comedy Summary for\\nMovie 902\\n4.0 2002\\nMovie 903 Drama Summary for\\nMovie 903\\n3.0 2003\\nMovie 904 Horror Summary for\\nMovie 904\\n3.5 2004\\nMovie 905 Sci-Fi Summary for\\nMovie 905\\n4.0 2005\\nMovie 906 Action Summary for\\nMovie 906\\n3.0 2006\\nMovie 907 Comedy Summary for\\nMovie 907\\n3.5 2007\\nMovie 908 Drama Summary for\\nMovie 908\\n4.0 2008\\nMovie 909 Horror Summary for\\nMovie 909\\n3.0 2009'),\n",
              " Document(metadata={'source': '/content/movie_recommendation.pdf', 'page': 35}, page_content='Movie 910 Sci-Fi Summary for\\nMovie 910\\n3.5 2010\\nMovie 911 Action Summary for\\nMovie 911\\n4.0 2011\\nMovie 912 Comedy Summary for\\nMovie 912\\n3.0 2012\\nMovie 913 Drama Summary for\\nMovie 913\\n3.5 2013\\nMovie 914 Horror Summary for\\nMovie 914\\n4.0 2014\\nMovie 915 Sci-Fi Summary for\\nMovie 915\\n3.0 2015\\nMovie 916 Action Summary for\\nMovie 916\\n3.5 2016\\nMovie 917 Comedy Summary for\\nMovie 917\\n4.0 2017\\nMovie 918 Drama Summary for\\nMovie 918\\n3.0 2018\\nMovie 919 Horror Summary for\\nMovie 919\\n3.5 2019\\nMovie 920 Sci-Fi Summary for\\nMovie 920\\n4.0 2000\\nMovie 921 Action Summary for\\nMovie 921\\n3.0 2001\\nMovie 922 Comedy Summary for\\nMovie 922\\n3.5 2002\\nMovie 923 Drama Summary for\\nMovie 923\\n4.0 2003\\nMovie 924 Horror Summary for\\nMovie 924\\n3.0 2004\\nMovie 925 Sci-Fi Summary for\\nMovie 925\\n3.5 2005\\nMovie 926 Action Summary for\\nMovie 926\\n4.0 2006\\nMovie 927 Comedy Summary for\\nMovie 927\\n3.0 2007\\nMovie 928 Drama Summary for\\nMovie 928\\n3.5 2008\\nMovie 929 Horror Summary for\\nMovie 929\\n4.0 2009\\nMovie 930 Sci-Fi Summary for\\nMovie 930\\n3.0 2010\\nMovie 931 Action Summary for\\nMovie 931\\n3.5 2011\\nMovie 932 Comedy Summary for\\nMovie 932\\n4.0 2012\\nMovie 933 Drama Summary for\\nMovie 933\\n3.0 2013\\nMovie 934 Horror Summary for\\nMovie 934\\n3.5 2014\\nMovie 935 Sci-Fi Summary for\\nMovie 935\\n4.0 2015'),\n",
              " Document(metadata={'source': '/content/movie_recommendation.pdf', 'page': 36}, page_content='Movie 936 Action Summary for\\nMovie 936\\n3.0 2016\\nMovie 937 Comedy Summary for\\nMovie 937\\n3.5 2017\\nMovie 938 Drama Summary for\\nMovie 938\\n4.0 2018\\nMovie 939 Horror Summary for\\nMovie 939\\n3.0 2019\\nMovie 940 Sci-Fi Summary for\\nMovie 940\\n3.5 2000\\nMovie 941 Action Summary for\\nMovie 941\\n4.0 2001\\nMovie 942 Comedy Summary for\\nMovie 942\\n3.0 2002\\nMovie 943 Drama Summary for\\nMovie 943\\n3.5 2003\\nMovie 944 Horror Summary for\\nMovie 944\\n4.0 2004\\nMovie 945 Sci-Fi Summary for\\nMovie 945\\n3.0 2005\\nMovie 946 Action Summary for\\nMovie 946\\n3.5 2006\\nMovie 947 Comedy Summary for\\nMovie 947\\n4.0 2007\\nMovie 948 Drama Summary for\\nMovie 948\\n3.0 2008\\nMovie 949 Horror Summary for\\nMovie 949\\n3.5 2009\\nMovie 950 Sci-Fi Summary for\\nMovie 950\\n4.0 2010\\nMovie 951 Action Summary for\\nMovie 951\\n3.0 2011\\nMovie 952 Comedy Summary for\\nMovie 952\\n3.5 2012\\nMovie 953 Drama Summary for\\nMovie 953\\n4.0 2013\\nMovie 954 Horror Summary for\\nMovie 954\\n3.0 2014\\nMovie 955 Sci-Fi Summary for\\nMovie 955\\n3.5 2015\\nMovie 956 Action Summary for\\nMovie 956\\n4.0 2016\\nMovie 957 Comedy Summary for\\nMovie 957\\n3.0 2017\\nMovie 958 Drama Summary for\\nMovie 958\\n3.5 2018\\nMovie 959 Horror Summary for\\nMovie 959\\n4.0 2019\\nMovie 960 Sci-Fi Summary for\\nMovie 960\\n3.0 2000\\nMovie 961 Action Summary for\\nMovie 961\\n3.5 2001'),\n",
              " Document(metadata={'source': '/content/movie_recommendation.pdf', 'page': 37}, page_content='Movie 962 Comedy Summary for\\nMovie 962\\n4.0 2002\\nMovie 963 Drama Summary for\\nMovie 963\\n3.0 2003\\nMovie 964 Horror Summary for\\nMovie 964\\n3.5 2004\\nMovie 965 Sci-Fi Summary for\\nMovie 965\\n4.0 2005\\nMovie 966 Action Summary for\\nMovie 966\\n3.0 2006\\nMovie 967 Comedy Summary for\\nMovie 967\\n3.5 2007\\nMovie 968 Drama Summary for\\nMovie 968\\n4.0 2008\\nMovie 969 Horror Summary for\\nMovie 969\\n3.0 2009\\nMovie 970 Sci-Fi Summary for\\nMovie 970\\n3.5 2010\\nMovie 971 Action Summary for\\nMovie 971\\n4.0 2011\\nMovie 972 Comedy Summary for\\nMovie 972\\n3.0 2012\\nMovie 973 Drama Summary for\\nMovie 973\\n3.5 2013\\nMovie 974 Horror Summary for\\nMovie 974\\n4.0 2014\\nMovie 975 Sci-Fi Summary for\\nMovie 975\\n3.0 2015\\nMovie 976 Action Summary for\\nMovie 976\\n3.5 2016\\nMovie 977 Comedy Summary for\\nMovie 977\\n4.0 2017\\nMovie 978 Drama Summary for\\nMovie 978\\n3.0 2018\\nMovie 979 Horror Summary for\\nMovie 979\\n3.5 2019\\nMovie 980 Sci-Fi Summary for\\nMovie 980\\n4.0 2000\\nMovie 981 Action Summary for\\nMovie 981\\n3.0 2001\\nMovie 982 Comedy Summary for\\nMovie 982\\n3.5 2002\\nMovie 983 Drama Summary for\\nMovie 983\\n4.0 2003\\nMovie 984 Horror Summary for\\nMovie 984\\n3.0 2004\\nMovie 985 Sci-Fi Summary for\\nMovie 985\\n3.5 2005\\nMovie 986 Action Summary for\\nMovie 986\\n4.0 2006\\nMovie 987 Comedy Summary for\\nMovie 987\\n3.0 2007'),\n",
              " Document(metadata={'source': '/content/movie_recommendation.pdf', 'page': 38}, page_content='Movie 988 Drama Summary for\\nMovie 988\\n3.5 2008\\nMovie 989 Horror Summary for\\nMovie 989\\n4.0 2009\\nMovie 990 Sci-Fi Summary for\\nMovie 990\\n3.0 2010\\nMovie 991 Action Summary for\\nMovie 991\\n3.5 2011\\nMovie 992 Comedy Summary for\\nMovie 992\\n4.0 2012\\nMovie 993 Drama Summary for\\nMovie 993\\n3.0 2013\\nMovie 994 Horror Summary for\\nMovie 994\\n3.5 2014\\nMovie 995 Sci-Fi Summary for\\nMovie 995\\n4.0 2015\\nMovie 996 Action Summary for\\nMovie 996\\n3.0 2016\\nMovie 997 Comedy Summary for\\nMovie 997\\n3.5 2017\\nMovie 998 Drama Summary for\\nMovie 998\\n4.0 2018\\nMovie 999 Horror Summary for\\nMovie 999\\n3.0 2019\\nMovie 1000 Sci-Fi Summary for\\nMovie 1000\\n3.5 2000')]"
            ]
          },
          "metadata": {},
          "execution_count": 8
        }
      ]
    },
    {
      "cell_type": "code",
      "source": [
        "len(document)"
      ],
      "metadata": {
        "colab": {
          "base_uri": "https://localhost:8080/"
        },
        "id": "Pyc1Odl00ylX",
        "outputId": "eda0df32-a9f9-4c3c-b26f-61f563d3222f"
      },
      "execution_count": 9,
      "outputs": [
        {
          "output_type": "execute_result",
          "data": {
            "text/plain": [
              "39"
            ]
          },
          "metadata": {},
          "execution_count": 9
        }
      ]
    },
    {
      "cell_type": "code",
      "source": [
        "text_splitter = RecursiveCharacterTextSplitter(chunk_size=10000)\n"
      ],
      "metadata": {
        "id": "yQSL-Rme02TC"
      },
      "execution_count": 10,
      "outputs": []
    },
    {
      "cell_type": "code",
      "source": [
        "context = \"\\n\\n\".join(str(p.page_content)for p in document)\n",
        "texts = text_splitter.split_text(context)\n",
        "\n",
        "print(\"total number od documents:\", len(texts))"
      ],
      "metadata": {
        "colab": {
          "base_uri": "https://localhost:8080/"
        },
        "id": "SpXhMJSK1UGx",
        "outputId": "cbac0d24-2ab5-49a4-f5ba-0cb42897662d"
      },
      "execution_count": 11,
      "outputs": [
        {
          "output_type": "stream",
          "name": "stdout",
          "text": [
            "total number od documents: 5\n"
          ]
        }
      ]
    },
    {
      "cell_type": "code",
      "source": [
        "from langchain_google_genai import GoogleGenerativeAIEmbeddings"
      ],
      "metadata": {
        "id": "v5NdoK_n2HsC"
      },
      "execution_count": 12,
      "outputs": []
    },
    {
      "cell_type": "code",
      "source": [
        "embedding = GoogleGenerativeAIEmbeddings(model=\"models/embedding-001\", google_api_key=google_api_key )\n",
        "vector = embedding.embed_query(\"hello world\")\n",
        "vector[:5]"
      ],
      "metadata": {
        "colab": {
          "base_uri": "https://localhost:8080/"
        },
        "id": "foBB8DlU3PDO",
        "outputId": "bc3b5495-21f3-4921-d5a5-553cd6b2fa7a"
      },
      "execution_count": 15,
      "outputs": [
        {
          "output_type": "execute_result",
          "data": {
            "text/plain": [
              "[0.04909781739115715,\n",
              " -0.044328317046165466,\n",
              " -0.025365281850099564,\n",
              " -0.030721040442585945,\n",
              " 0.019068587571382523]"
            ]
          },
          "metadata": {},
          "execution_count": 15
        }
      ]
    },
    {
      "cell_type": "code",
      "source": [
        "from langchain_google_genai import ChatGoogleGenerativeAI"
      ],
      "metadata": {
        "id": "B_xNnPBf_RxS"
      },
      "execution_count": 16,
      "outputs": []
    },
    {
      "cell_type": "code",
      "source": [
        "embedding = GoogleGenerativeAIEmbeddings(model=\"models/embedding-001\", google_api_key=google_api_key )\n"
      ],
      "metadata": {
        "id": "--X3SCQY9yHk"
      },
      "execution_count": 17,
      "outputs": []
    },
    {
      "cell_type": "code",
      "source": [
        "vector_index = Chroma.from_texts(texts, embedding).as_retriever(search_kwarge={\"k\":5})\n"
      ],
      "metadata": {
        "id": "HiWRmAtD-L9q"
      },
      "execution_count": 18,
      "outputs": []
    },
    {
      "cell_type": "code",
      "source": [
        "llm = ChatGoogleGenerativeAI(model=\"gemini-2.0-flash-exp\",google_api_key=google_api_key,\n",
        "                             temperature=0.2,convert_system_message_to_human=True)"
      ],
      "metadata": {
        "id": "S41wpfNFCcy-"
      },
      "execution_count": 19,
      "outputs": []
    },
    {
      "cell_type": "code",
      "source": [
        "template = \"\"\"Use the following pieces ot context to answer the question at the end. If you dont's know the answer,just say the that you don't know ,don't try make up an answer. Keep the answer as concise as possiable. Always say \"thanks for asking\" at the end of the answer.\n",
        "{context}\n",
        "Question: {question}\n",
        "Helpful Answer:\"\"\""
      ],
      "metadata": {
        "id": "wwD-eZK5B-_d"
      },
      "execution_count": 20,
      "outputs": []
    },
    {
      "cell_type": "code",
      "source": [
        "QA_CHAIN_PROMPT = PromptTemplate.from_template(template)\n"
      ],
      "metadata": {
        "id": "42q5MZ3TDzwp"
      },
      "execution_count": 21,
      "outputs": []
    },
    {
      "cell_type": "code",
      "source": [
        " from langchain.chains import RetrievalQA"
      ],
      "metadata": {
        "id": "Q8H84pb8HMGg"
      },
      "execution_count": 22,
      "outputs": []
    },
    {
      "cell_type": "code",
      "source": [
        "qa_chain = RetrievalQA.from_chain_type(\n",
        "    llm,\n",
        "    retriever = vector_index,\n",
        "    return_source_documents=True,\n",
        "    chain_type_kwargs={\"prompt\": QA_CHAIN_PROMPT}\n",
        ")"
      ],
      "metadata": {
        "id": "WFb7b37UFQ43"
      },
      "execution_count": 23,
      "outputs": []
    },
    {
      "cell_type": "code",
      "source": [
        "question = \"Describe the moives\"\n",
        "result = qa_chain({\"query\": question})\n",
        "result[\"result\"]"
      ],
      "metadata": {
        "colab": {
          "base_uri": "https://localhost:8080/",
          "height": 53
        },
        "id": "89ZAzebdF9WG",
        "outputId": "7808e19f-4f4f-4df8-c614-bdc3bdf91ffa"
      },
      "execution_count": 24,
      "outputs": [
        {
          "output_type": "execute_result",
          "data": {
            "text/plain": [
              "'The movies are categorized by genre (Action, Comedy, Drama, Horror, Sci-Fi), have a rating between 3.0 and 4.0, and were released between 2000 and 2019. thanks for asking'"
            ],
            "application/vnd.google.colaboratory.intrinsic+json": {
              "type": "string"
            }
          },
          "metadata": {},
          "execution_count": 24
        }
      ]
    }
  ]
}